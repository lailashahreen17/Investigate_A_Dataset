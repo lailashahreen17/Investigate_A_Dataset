{
 "cells": [
  {
   "cell_type": "markdown",
   "metadata": {},
   "source": [
    "# Project: Explore Medical Appointment No Shows Dataset and Fact Finding \n",
    "\n",
    "## Table of Contents\n",
    "<ul>\n",
    "<li><a href=\"#intro\">Introduction</a></li>\n",
    "<li><a href=\"#wrangling\">Data Wrangling</a></li>\n",
    "<li><a href=\"#eda\">Exploratory Data Analysis</a></li>\n",
    "<li><a href=\"#conclusions\">Conclusions</a></li>\n",
    "</ul>"
   ]
  },
  {
   "cell_type": "markdown",
   "metadata": {},
   "source": [
    "## Introduction\n",
    "\n",
    "In this project,I explored a dataset related to patients' medical appointment show up history in Brazil. The dataset [here](www.kaggle.com/joniarroba/noshowappointments) sourced from [Kaggle](https://kaggle.com/)\n",
    "includes data about patient's physical condition, personal information, location and scheduled medical appointments' details. The main goal of this project is to identify the reasons behind not showing up after making an appointment. There are total 13 independent and 1 dependent variables in the dataset. Those are tabulated below for the ease of my analysis. I was interested to figure out what variables really dictate the cause of not turning up and among the independent variables I picked up the patient's age, gender, physical conditions such as hypertension, diabetes,alcoholism, whether or not the patient is handicap as well as effect of medical benefit(scholarship) and sms reminder before appoinment date.One important point to be noted here is that this analysis will be based on descriptive statistics and no final prediction will be done.\n",
    "\n",
    "\n",
    "|  No |  Features | Description  |\n",
    "|---|---|---| \n",
    "|  1 |  PatientID | Patient's identification  |\n",
    "|2|  AppointmentID | Identification number assigned after making an appointment  |\n",
    "|  3 | Gender  | Patient's gender\n",
    "|  4 |  ScheduleDay | The day someone resgistered to set up an appointment  \n",
    "|  5 |  AppointmentDay | The actual day of visit  |\n",
    "|   6|  Age |Age of the patient  |\n",
    "|  7 | Neighbourhood  | Location of the hospital  |\n",
    "|   8|  Scholarship | Whether or not the patient is enrolled in Brasilian welfare program Bolsa Família.\n",
    "|   9|  Hipertension | Does patient have hypertension, true or false  |\n",
    "|   10|  Diabetes | Does patient have diabetes, true or false |\n",
    "|   11| Alcoholism  | Does patient have alcohol addiction, true or false  |\n",
    "|  12 |  Handcap | Does patient have any disability |\n",
    "|  13 |  SMS_received | 1 or zero text reminder   |\n",
    "|   14|  No-show |'No' the patient showed up;'Yes' for a no-show\n",
    "\n",
    "\n",
    "The questions I focused on to answer through my data analysis process are stated below. The type of my questions could be categorized in three main factors. Health condition, personal information and medical benefit such as recipient of scholarship from Brasilian welfare program. \n",
    "\n",
    "### Questions\n",
    " - What is the gender profile of all the patients?\n",
    " - What is the distribution of gender in No-show up category?\n",
    " - What is the age distribution among all patients?\n",
    " - Does any age category have higher 'No -show' tendency over others?\n",
    " - How does a dibetes patient respond to an appointmnt?\n",
    " - How does a hypertension patient respond to an appointment?\n",
    " - How does a patient with alcohol addiction respond to an appointment?\n",
    " - Does gender play any role in any of these health condition?\n",
    " - Which hospital location gets less 'No-show' response?\n",
    " - Does text reminder help in getting less 'No-show' response?\n",
    " - Does scholarship play any part in showing up on scheduled appointment day?\n",
    " - How being handicap does impact on not-showing up on appoinement day?\n",
    "\n",
    "Before exploring the dataset, I accumulated all the neccessary packages and also included the % matplotlib inline command line so that my visualization are plotted inline with the notebook. \n"
   ]
  },
  {
   "cell_type": "code",
   "execution_count": 817,
   "metadata": {},
   "outputs": [],
   "source": [
    "# import statements for all of the necessary packages\n",
    "import numpy as np\n",
    "import pandas as pd\n",
    "import matplotlib.pyplot as plt\n",
    "%matplotlib inline\n",
    "\n",
    "\n",
    "# Remember to include a 'magic word' so that your visualizations are plotted\n",
    "#   inline with the notebook. See this page for more:\n",
    "#   http://ipython.readthedocs.io/en/stable/interactive/magics.html\n"
   ]
  },
  {
   "cell_type": "markdown",
   "metadata": {},
   "source": [
    "\n",
    "## Data Wrangling\n",
    "\n",
    "In this section of the report, I loaded in the data, assesed for cleanliness, and then trimmed and cleaned the dataset for desired analysis. \n",
    "\n",
    "### Load Data and Review"
   ]
  },
  {
   "cell_type": "code",
   "execution_count": 818,
   "metadata": {},
   "outputs": [
    {
     "data": {
      "text/html": [
       "<div>\n",
       "<style scoped>\n",
       "    .dataframe tbody tr th:only-of-type {\n",
       "        vertical-align: middle;\n",
       "    }\n",
       "\n",
       "    .dataframe tbody tr th {\n",
       "        vertical-align: top;\n",
       "    }\n",
       "\n",
       "    .dataframe thead th {\n",
       "        text-align: right;\n",
       "    }\n",
       "</style>\n",
       "<table border=\"1\" class=\"dataframe\">\n",
       "  <thead>\n",
       "    <tr style=\"text-align: right;\">\n",
       "      <th></th>\n",
       "      <th>PatientId</th>\n",
       "      <th>AppointmentID</th>\n",
       "      <th>Gender</th>\n",
       "      <th>ScheduledDay</th>\n",
       "      <th>AppointmentDay</th>\n",
       "      <th>Age</th>\n",
       "      <th>Neighbourhood</th>\n",
       "      <th>Scholarship</th>\n",
       "      <th>Hipertension</th>\n",
       "      <th>Diabetes</th>\n",
       "      <th>Alcoholism</th>\n",
       "      <th>Handcap</th>\n",
       "      <th>SMS_received</th>\n",
       "      <th>No-show</th>\n",
       "    </tr>\n",
       "  </thead>\n",
       "  <tbody>\n",
       "    <tr>\n",
       "      <th>0</th>\n",
       "      <td>2.987250e+13</td>\n",
       "      <td>5642903</td>\n",
       "      <td>F</td>\n",
       "      <td>2016-04-29T18:38:08Z</td>\n",
       "      <td>2016-04-29T00:00:00Z</td>\n",
       "      <td>62</td>\n",
       "      <td>JARDIM DA PENHA</td>\n",
       "      <td>0</td>\n",
       "      <td>1</td>\n",
       "      <td>0</td>\n",
       "      <td>0</td>\n",
       "      <td>0</td>\n",
       "      <td>0</td>\n",
       "      <td>No</td>\n",
       "    </tr>\n",
       "    <tr>\n",
       "      <th>1</th>\n",
       "      <td>5.589978e+14</td>\n",
       "      <td>5642503</td>\n",
       "      <td>M</td>\n",
       "      <td>2016-04-29T16:08:27Z</td>\n",
       "      <td>2016-04-29T00:00:00Z</td>\n",
       "      <td>56</td>\n",
       "      <td>JARDIM DA PENHA</td>\n",
       "      <td>0</td>\n",
       "      <td>0</td>\n",
       "      <td>0</td>\n",
       "      <td>0</td>\n",
       "      <td>0</td>\n",
       "      <td>0</td>\n",
       "      <td>No</td>\n",
       "    </tr>\n",
       "    <tr>\n",
       "      <th>2</th>\n",
       "      <td>4.262962e+12</td>\n",
       "      <td>5642549</td>\n",
       "      <td>F</td>\n",
       "      <td>2016-04-29T16:19:04Z</td>\n",
       "      <td>2016-04-29T00:00:00Z</td>\n",
       "      <td>62</td>\n",
       "      <td>MATA DA PRAIA</td>\n",
       "      <td>0</td>\n",
       "      <td>0</td>\n",
       "      <td>0</td>\n",
       "      <td>0</td>\n",
       "      <td>0</td>\n",
       "      <td>0</td>\n",
       "      <td>No</td>\n",
       "    </tr>\n",
       "    <tr>\n",
       "      <th>3</th>\n",
       "      <td>8.679512e+11</td>\n",
       "      <td>5642828</td>\n",
       "      <td>F</td>\n",
       "      <td>2016-04-29T17:29:31Z</td>\n",
       "      <td>2016-04-29T00:00:00Z</td>\n",
       "      <td>8</td>\n",
       "      <td>PONTAL DE CAMBURI</td>\n",
       "      <td>0</td>\n",
       "      <td>0</td>\n",
       "      <td>0</td>\n",
       "      <td>0</td>\n",
       "      <td>0</td>\n",
       "      <td>0</td>\n",
       "      <td>No</td>\n",
       "    </tr>\n",
       "    <tr>\n",
       "      <th>4</th>\n",
       "      <td>8.841186e+12</td>\n",
       "      <td>5642494</td>\n",
       "      <td>F</td>\n",
       "      <td>2016-04-29T16:07:23Z</td>\n",
       "      <td>2016-04-29T00:00:00Z</td>\n",
       "      <td>56</td>\n",
       "      <td>JARDIM DA PENHA</td>\n",
       "      <td>0</td>\n",
       "      <td>1</td>\n",
       "      <td>1</td>\n",
       "      <td>0</td>\n",
       "      <td>0</td>\n",
       "      <td>0</td>\n",
       "      <td>No</td>\n",
       "    </tr>\n",
       "  </tbody>\n",
       "</table>\n",
       "</div>"
      ],
      "text/plain": [
       "      PatientId  AppointmentID Gender          ScheduledDay  \\\n",
       "0  2.987250e+13        5642903      F  2016-04-29T18:38:08Z   \n",
       "1  5.589978e+14        5642503      M  2016-04-29T16:08:27Z   \n",
       "2  4.262962e+12        5642549      F  2016-04-29T16:19:04Z   \n",
       "3  8.679512e+11        5642828      F  2016-04-29T17:29:31Z   \n",
       "4  8.841186e+12        5642494      F  2016-04-29T16:07:23Z   \n",
       "\n",
       "         AppointmentDay  Age      Neighbourhood  Scholarship  Hipertension  \\\n",
       "0  2016-04-29T00:00:00Z   62    JARDIM DA PENHA            0             1   \n",
       "1  2016-04-29T00:00:00Z   56    JARDIM DA PENHA            0             0   \n",
       "2  2016-04-29T00:00:00Z   62      MATA DA PRAIA            0             0   \n",
       "3  2016-04-29T00:00:00Z    8  PONTAL DE CAMBURI            0             0   \n",
       "4  2016-04-29T00:00:00Z   56    JARDIM DA PENHA            0             1   \n",
       "\n",
       "   Diabetes  Alcoholism  Handcap  SMS_received No-show  \n",
       "0         0           0        0             0      No  \n",
       "1         0           0        0             0      No  \n",
       "2         0           0        0             0      No  \n",
       "3         0           0        0             0      No  \n",
       "4         1           0        0             0      No  "
      ]
     },
     "execution_count": 818,
     "metadata": {},
     "output_type": "execute_result"
    }
   ],
   "source": [
    "# Load data and print out a few lines. Perform operations to inspect data\n",
    "#   types and look for instances of missing or possibly errant data.\n",
    "\n",
    "df = pd.read_csv('noshowappointments-kagglev2-may-2016.csv')\n",
    "\n",
    "df.head()\n",
    "\n"
   ]
  },
  {
   "cell_type": "markdown",
   "metadata": {},
   "source": [
    "From the above five rows, I see there are few spelling mistakes such as Hipertension, Handcap(should be hypetension and handicap respectively) as well as some inconsistency in first two columns' featurename. PatientId and AppointmentID need to be consistent in case of ID portion. So I renamed the columns to maintain constancy."
   ]
  },
  {
   "cell_type": "code",
   "execution_count": 819,
   "metadata": {},
   "outputs": [],
   "source": [
    "#renaming the errant columns\n",
    "df.rename(columns={'PatientId': 'PatientID', 'Hipertension': 'Hypertension', 'Handcap': 'Handicap'}, inplace=True)"
   ]
  },
  {
   "cell_type": "code",
   "execution_count": 820,
   "metadata": {},
   "outputs": [
    {
     "name": "stdout",
     "output_type": "stream",
     "text": [
      "<class 'pandas.core.frame.DataFrame'>\n",
      "RangeIndex: 110527 entries, 0 to 110526\n",
      "Data columns (total 14 columns):\n",
      "PatientID         110527 non-null float64\n",
      "AppointmentID     110527 non-null int64\n",
      "Gender            110527 non-null object\n",
      "ScheduledDay      110527 non-null object\n",
      "AppointmentDay    110527 non-null object\n",
      "Age               110527 non-null int64\n",
      "Neighbourhood     110527 non-null object\n",
      "Scholarship       110527 non-null int64\n",
      "Hypertension      110527 non-null int64\n",
      "Diabetes          110527 non-null int64\n",
      "Alcoholism        110527 non-null int64\n",
      "Handicap          110527 non-null int64\n",
      "SMS_received      110527 non-null int64\n",
      "No-show           110527 non-null object\n",
      "dtypes: float64(1), int64(8), object(5)\n",
      "memory usage: 11.8+ MB\n"
     ]
    }
   ],
   "source": [
    "#check the structure dataset\n",
    "df.info()"
   ]
  },
  {
   "cell_type": "markdown",
   "metadata": {},
   "source": [
    "### Obsevations\n",
    " - The columns' name have been corrected.\n",
    " - There are 110527 rows and 14 columns in the dataset.\n",
    " - There is no null value in any rows. So next, we can check if there is any duplicate rows.\n",
    " - The appointment times are all at 00:00:00, which certainly imply that they were performed at midnight or the moment of booking was not important in documentaion. But to make data more meaningful,'ScheduleDay' and 'AppointmentDay' should be in datetime object."
   ]
  },
  {
   "cell_type": "code",
   "execution_count": 821,
   "metadata": {},
   "outputs": [
    {
     "data": {
      "text/plain": [
       "False"
      ]
     },
     "execution_count": 821,
     "metadata": {},
     "output_type": "execute_result"
    }
   ],
   "source": [
    "#check duplicate values\n",
    "\n",
    "df.duplicated().any()"
   ]
  },
  {
   "cell_type": "markdown",
   "metadata": {},
   "source": [
    "There is no duplicated rows as well. Time to bring the datatype coherent so that we can compare and measure the effects of independent variables properly. Let's change the data type of 'AppointmentID', 'Scholarship','Diabetes','Hypertension','Handicap','Alcoholism','SMS_recieved' from int64 to object. Also, PatientID could be int64. Since there are no duplicate value, we can proceed to convert the data in this column to datetime objects."
   ]
  },
  {
   "cell_type": "markdown",
   "metadata": {},
   "source": [
    "### Conversion of data type"
   ]
  },
  {
   "cell_type": "code",
   "execution_count": 822,
   "metadata": {},
   "outputs": [],
   "source": [
    "# convert all the categorical variables from 'int' to 'category' type\n",
    "\n",
    "df['Gender'] = df['Gender'].astype('category')\n",
    "df['Scholarship'] = df['Scholarship'].astype('category')\n",
    "df['Hypertension'] = df['Hypertension'].astype('category')\n",
    "df['Diabetes'] = df['Diabetes'].astype('category')\n",
    "df['Alcoholism'] = df['Alcoholism'].astype('category')\n",
    "df['Handicap'] = df['Handicap'].astype('category')\n",
    "df['SMS_received'] = df['SMS_received'].astype('category')\n",
    "df['AppointmentID'] = df['AppointmentID'].astype('category')\n"
   ]
  },
  {
   "cell_type": "code",
   "execution_count": 823,
   "metadata": {},
   "outputs": [
    {
     "data": {
      "text/plain": [
       "0          29872499824296\n",
       "1         558997776694438\n",
       "2           4262962299951\n",
       "3            867951213174\n",
       "4           8841186448183\n",
       "               ...       \n",
       "110522      2572134369293\n",
       "110523      3596266328735\n",
       "110524     15576631729893\n",
       "110525     92134931435557\n",
       "110526    377511518121127\n",
       "Name: PatientID, Length: 110527, dtype: int64"
      ]
     },
     "execution_count": 823,
     "metadata": {},
     "output_type": "execute_result"
    }
   ],
   "source": [
    "#convert PatientID data type from 'float' to 'int'\n",
    "\n",
    "df['PatientID'] = df['PatientID'].astype('int64')\n",
    "\n",
    "# check if teh conversion was successful\n",
    "df.PatientID"
   ]
  },
  {
   "cell_type": "markdown",
   "metadata": {},
   "source": [
    "The data type conversion was succesful and we can finish conversiopn step after changing  'ScheduledDay' and 'AppointmentDay' columns' datatype from object to datetime."
   ]
  },
  {
   "cell_type": "code",
   "execution_count": 824,
   "metadata": {},
   "outputs": [
    {
     "name": "stdout",
     "output_type": "stream",
     "text": [
      "<class 'pandas.core.frame.DataFrame'>\n",
      "RangeIndex: 110527 entries, 0 to 110526\n",
      "Data columns (total 14 columns):\n",
      "PatientID         110527 non-null int64\n",
      "AppointmentID     110527 non-null category\n",
      "Gender            110527 non-null category\n",
      "ScheduledDay      110527 non-null datetime64[ns, UTC]\n",
      "AppointmentDay    110527 non-null datetime64[ns, UTC]\n",
      "Age               110527 non-null int64\n",
      "Neighbourhood     110527 non-null object\n",
      "Scholarship       110527 non-null category\n",
      "Hypertension      110527 non-null category\n",
      "Diabetes          110527 non-null category\n",
      "Alcoholism        110527 non-null category\n",
      "Handicap          110527 non-null category\n",
      "SMS_received      110527 non-null category\n",
      "No-show           110527 non-null object\n",
      "dtypes: category(8), datetime64[ns, UTC](2), int64(2), object(2)\n",
      "memory usage: 12.1+ MB\n"
     ]
    }
   ],
   "source": [
    "# convert AppointmentDay and ScheduleDay data type from 'float' to 'int'\n",
    "df['AppointmentDay'] = pd.to_datetime(df['AppointmentDay'])\n",
    "df['ScheduledDay'] = pd.to_datetime(df['ScheduledDay'])\n",
    "\n",
    "df.info()"
   ]
  },
  {
   "cell_type": "code",
   "execution_count": 825,
   "metadata": {},
   "outputs": [
    {
     "data": {
      "text/html": [
       "<div>\n",
       "<style scoped>\n",
       "    .dataframe tbody tr th:only-of-type {\n",
       "        vertical-align: middle;\n",
       "    }\n",
       "\n",
       "    .dataframe tbody tr th {\n",
       "        vertical-align: top;\n",
       "    }\n",
       "\n",
       "    .dataframe thead th {\n",
       "        text-align: right;\n",
       "    }\n",
       "</style>\n",
       "<table border=\"1\" class=\"dataframe\">\n",
       "  <thead>\n",
       "    <tr style=\"text-align: right;\">\n",
       "      <th></th>\n",
       "      <th>PatientID</th>\n",
       "      <th>AppointmentID</th>\n",
       "      <th>Gender</th>\n",
       "      <th>ScheduledDay</th>\n",
       "      <th>AppointmentDay</th>\n",
       "      <th>Age</th>\n",
       "      <th>Neighbourhood</th>\n",
       "      <th>Scholarship</th>\n",
       "      <th>Hypertension</th>\n",
       "      <th>Diabetes</th>\n",
       "      <th>Alcoholism</th>\n",
       "      <th>Handicap</th>\n",
       "      <th>SMS_received</th>\n",
       "      <th>No-show</th>\n",
       "    </tr>\n",
       "  </thead>\n",
       "  <tbody>\n",
       "    <tr>\n",
       "      <th>0</th>\n",
       "      <td>29872499824296</td>\n",
       "      <td>5642903</td>\n",
       "      <td>F</td>\n",
       "      <td>2016-04-29 18:38:08+00:00</td>\n",
       "      <td>2016-04-29 00:00:00+00:00</td>\n",
       "      <td>62</td>\n",
       "      <td>JARDIM DA PENHA</td>\n",
       "      <td>0</td>\n",
       "      <td>1</td>\n",
       "      <td>0</td>\n",
       "      <td>0</td>\n",
       "      <td>0</td>\n",
       "      <td>0</td>\n",
       "      <td>No</td>\n",
       "    </tr>\n",
       "    <tr>\n",
       "      <th>1</th>\n",
       "      <td>558997776694438</td>\n",
       "      <td>5642503</td>\n",
       "      <td>M</td>\n",
       "      <td>2016-04-29 16:08:27+00:00</td>\n",
       "      <td>2016-04-29 00:00:00+00:00</td>\n",
       "      <td>56</td>\n",
       "      <td>JARDIM DA PENHA</td>\n",
       "      <td>0</td>\n",
       "      <td>0</td>\n",
       "      <td>0</td>\n",
       "      <td>0</td>\n",
       "      <td>0</td>\n",
       "      <td>0</td>\n",
       "      <td>No</td>\n",
       "    </tr>\n",
       "    <tr>\n",
       "      <th>2</th>\n",
       "      <td>4262962299951</td>\n",
       "      <td>5642549</td>\n",
       "      <td>F</td>\n",
       "      <td>2016-04-29 16:19:04+00:00</td>\n",
       "      <td>2016-04-29 00:00:00+00:00</td>\n",
       "      <td>62</td>\n",
       "      <td>MATA DA PRAIA</td>\n",
       "      <td>0</td>\n",
       "      <td>0</td>\n",
       "      <td>0</td>\n",
       "      <td>0</td>\n",
       "      <td>0</td>\n",
       "      <td>0</td>\n",
       "      <td>No</td>\n",
       "    </tr>\n",
       "    <tr>\n",
       "      <th>3</th>\n",
       "      <td>867951213174</td>\n",
       "      <td>5642828</td>\n",
       "      <td>F</td>\n",
       "      <td>2016-04-29 17:29:31+00:00</td>\n",
       "      <td>2016-04-29 00:00:00+00:00</td>\n",
       "      <td>8</td>\n",
       "      <td>PONTAL DE CAMBURI</td>\n",
       "      <td>0</td>\n",
       "      <td>0</td>\n",
       "      <td>0</td>\n",
       "      <td>0</td>\n",
       "      <td>0</td>\n",
       "      <td>0</td>\n",
       "      <td>No</td>\n",
       "    </tr>\n",
       "    <tr>\n",
       "      <th>4</th>\n",
       "      <td>8841186448183</td>\n",
       "      <td>5642494</td>\n",
       "      <td>F</td>\n",
       "      <td>2016-04-29 16:07:23+00:00</td>\n",
       "      <td>2016-04-29 00:00:00+00:00</td>\n",
       "      <td>56</td>\n",
       "      <td>JARDIM DA PENHA</td>\n",
       "      <td>0</td>\n",
       "      <td>1</td>\n",
       "      <td>1</td>\n",
       "      <td>0</td>\n",
       "      <td>0</td>\n",
       "      <td>0</td>\n",
       "      <td>No</td>\n",
       "    </tr>\n",
       "  </tbody>\n",
       "</table>\n",
       "</div>"
      ],
      "text/plain": [
       "         PatientID AppointmentID Gender              ScheduledDay  \\\n",
       "0   29872499824296       5642903      F 2016-04-29 18:38:08+00:00   \n",
       "1  558997776694438       5642503      M 2016-04-29 16:08:27+00:00   \n",
       "2    4262962299951       5642549      F 2016-04-29 16:19:04+00:00   \n",
       "3     867951213174       5642828      F 2016-04-29 17:29:31+00:00   \n",
       "4    8841186448183       5642494      F 2016-04-29 16:07:23+00:00   \n",
       "\n",
       "             AppointmentDay  Age      Neighbourhood Scholarship Hypertension  \\\n",
       "0 2016-04-29 00:00:00+00:00   62    JARDIM DA PENHA           0            1   \n",
       "1 2016-04-29 00:00:00+00:00   56    JARDIM DA PENHA           0            0   \n",
       "2 2016-04-29 00:00:00+00:00   62      MATA DA PRAIA           0            0   \n",
       "3 2016-04-29 00:00:00+00:00    8  PONTAL DE CAMBURI           0            0   \n",
       "4 2016-04-29 00:00:00+00:00   56    JARDIM DA PENHA           0            1   \n",
       "\n",
       "  Diabetes Alcoholism Handicap SMS_received No-show  \n",
       "0        0          0        0            0      No  \n",
       "1        0          0        0            0      No  \n",
       "2        0          0        0            0      No  \n",
       "3        0          0        0            0      No  \n",
       "4        1          0        0            0      No  "
      ]
     },
     "execution_count": 825,
     "metadata": {},
     "output_type": "execute_result"
    }
   ],
   "source": [
    "df.head()"
   ]
  },
  {
   "cell_type": "code",
   "execution_count": 826,
   "metadata": {},
   "outputs": [
    {
     "data": {
      "text/html": [
       "<div>\n",
       "<style scoped>\n",
       "    .dataframe tbody tr th:only-of-type {\n",
       "        vertical-align: middle;\n",
       "    }\n",
       "\n",
       "    .dataframe tbody tr th {\n",
       "        vertical-align: top;\n",
       "    }\n",
       "\n",
       "    .dataframe thead th {\n",
       "        text-align: right;\n",
       "    }\n",
       "</style>\n",
       "<table border=\"1\" class=\"dataframe\">\n",
       "  <thead>\n",
       "    <tr style=\"text-align: right;\">\n",
       "      <th></th>\n",
       "      <th>PatientID</th>\n",
       "      <th>Age</th>\n",
       "    </tr>\n",
       "  </thead>\n",
       "  <tbody>\n",
       "    <tr>\n",
       "      <th>count</th>\n",
       "      <td>1.105270e+05</td>\n",
       "      <td>110527.000000</td>\n",
       "    </tr>\n",
       "    <tr>\n",
       "      <th>mean</th>\n",
       "      <td>1.474963e+14</td>\n",
       "      <td>37.088874</td>\n",
       "    </tr>\n",
       "    <tr>\n",
       "      <th>std</th>\n",
       "      <td>2.560949e+14</td>\n",
       "      <td>23.110205</td>\n",
       "    </tr>\n",
       "    <tr>\n",
       "      <th>min</th>\n",
       "      <td>3.921700e+04</td>\n",
       "      <td>-1.000000</td>\n",
       "    </tr>\n",
       "    <tr>\n",
       "      <th>25%</th>\n",
       "      <td>4.172614e+12</td>\n",
       "      <td>18.000000</td>\n",
       "    </tr>\n",
       "    <tr>\n",
       "      <th>50%</th>\n",
       "      <td>3.173184e+13</td>\n",
       "      <td>37.000000</td>\n",
       "    </tr>\n",
       "    <tr>\n",
       "      <th>75%</th>\n",
       "      <td>9.439172e+13</td>\n",
       "      <td>55.000000</td>\n",
       "    </tr>\n",
       "    <tr>\n",
       "      <th>max</th>\n",
       "      <td>9.999816e+14</td>\n",
       "      <td>115.000000</td>\n",
       "    </tr>\n",
       "  </tbody>\n",
       "</table>\n",
       "</div>"
      ],
      "text/plain": [
       "          PatientID            Age\n",
       "count  1.105270e+05  110527.000000\n",
       "mean   1.474963e+14      37.088874\n",
       "std    2.560949e+14      23.110205\n",
       "min    3.921700e+04      -1.000000\n",
       "25%    4.172614e+12      18.000000\n",
       "50%    3.173184e+13      37.000000\n",
       "75%    9.439172e+13      55.000000\n",
       "max    9.999816e+14     115.000000"
      ]
     },
     "execution_count": 826,
     "metadata": {},
     "output_type": "execute_result"
    }
   ],
   "source": [
    "# Check any abnormal data is present\n",
    "\n",
    "df.describe()"
   ]
  },
  {
   "cell_type": "markdown",
   "metadata": {},
   "source": [
    "Looks like the minimum age is -1 which is possibly a mistake and we can ignore this data from our analytical part. Let's find out the row and trim it."
   ]
  },
  {
   "cell_type": "markdown",
   "metadata": {},
   "source": [
    "### Cleaning dataset"
   ]
  },
  {
   "cell_type": "code",
   "execution_count": 827,
   "metadata": {},
   "outputs": [
    {
     "data": {
      "text/html": [
       "<div>\n",
       "<style scoped>\n",
       "    .dataframe tbody tr th:only-of-type {\n",
       "        vertical-align: middle;\n",
       "    }\n",
       "\n",
       "    .dataframe tbody tr th {\n",
       "        vertical-align: top;\n",
       "    }\n",
       "\n",
       "    .dataframe thead th {\n",
       "        text-align: right;\n",
       "    }\n",
       "</style>\n",
       "<table border=\"1\" class=\"dataframe\">\n",
       "  <thead>\n",
       "    <tr style=\"text-align: right;\">\n",
       "      <th></th>\n",
       "      <th>PatientID</th>\n",
       "      <th>AppointmentID</th>\n",
       "      <th>Gender</th>\n",
       "      <th>ScheduledDay</th>\n",
       "      <th>AppointmentDay</th>\n",
       "      <th>Age</th>\n",
       "      <th>Neighbourhood</th>\n",
       "      <th>Scholarship</th>\n",
       "      <th>Hypertension</th>\n",
       "      <th>Diabetes</th>\n",
       "      <th>Alcoholism</th>\n",
       "      <th>Handicap</th>\n",
       "      <th>SMS_received</th>\n",
       "      <th>No-show</th>\n",
       "    </tr>\n",
       "  </thead>\n",
       "  <tbody>\n",
       "    <tr>\n",
       "      <th>99832</th>\n",
       "      <td>465943158731293</td>\n",
       "      <td>5775010</td>\n",
       "      <td>F</td>\n",
       "      <td>2016-06-06 08:58:13+00:00</td>\n",
       "      <td>2016-06-06 00:00:00+00:00</td>\n",
       "      <td>-1</td>\n",
       "      <td>ROMÃO</td>\n",
       "      <td>0</td>\n",
       "      <td>0</td>\n",
       "      <td>0</td>\n",
       "      <td>0</td>\n",
       "      <td>0</td>\n",
       "      <td>0</td>\n",
       "      <td>No</td>\n",
       "    </tr>\n",
       "  </tbody>\n",
       "</table>\n",
       "</div>"
      ],
      "text/plain": [
       "             PatientID AppointmentID Gender              ScheduledDay  \\\n",
       "99832  465943158731293       5775010      F 2016-06-06 08:58:13+00:00   \n",
       "\n",
       "                 AppointmentDay  Age Neighbourhood Scholarship Hypertension  \\\n",
       "99832 2016-06-06 00:00:00+00:00   -1         ROMÃO           0            0   \n",
       "\n",
       "      Diabetes Alcoholism Handicap SMS_received No-show  \n",
       "99832        0          0        0            0      No  "
      ]
     },
     "execution_count": 827,
     "metadata": {},
     "output_type": "execute_result"
    }
   ],
   "source": [
    "# filter the row with negetive age\n",
    "df[df.Age == -1]"
   ]
  },
  {
   "cell_type": "code",
   "execution_count": 828,
   "metadata": {},
   "outputs": [],
   "source": [
    "# drop the row with negetive age\n",
    "df.drop(index=99832, inplace=True)\n",
    "\n"
   ]
  },
  {
   "cell_type": "code",
   "execution_count": 829,
   "metadata": {},
   "outputs": [
    {
     "name": "stdout",
     "output_type": "stream",
     "text": [
      "<class 'pandas.core.frame.DataFrame'>\n",
      "Int64Index: 110526 entries, 0 to 110526\n",
      "Data columns (total 14 columns):\n",
      "PatientID         110526 non-null int64\n",
      "AppointmentID     110526 non-null category\n",
      "Gender            110526 non-null category\n",
      "ScheduledDay      110526 non-null datetime64[ns, UTC]\n",
      "AppointmentDay    110526 non-null datetime64[ns, UTC]\n",
      "Age               110526 non-null int64\n",
      "Neighbourhood     110526 non-null object\n",
      "Scholarship       110526 non-null category\n",
      "Hypertension      110526 non-null category\n",
      "Diabetes          110526 non-null category\n",
      "Alcoholism        110526 non-null category\n",
      "Handicap          110526 non-null category\n",
      "SMS_received      110526 non-null category\n",
      "No-show           110526 non-null object\n",
      "dtypes: category(8), datetime64[ns, UTC](2), int64(2), object(2)\n",
      "memory usage: 12.9+ MB\n"
     ]
    }
   ],
   "source": [
    "#confirm the cleaning\n",
    "df.info()"
   ]
  },
  {
   "cell_type": "code",
   "execution_count": 830,
   "metadata": {},
   "outputs": [
    {
     "data": {
      "text/plain": [
       "PatientID          62298\n",
       "AppointmentID     110526\n",
       "Gender                 2\n",
       "ScheduledDay      103548\n",
       "AppointmentDay        27\n",
       "Age                  103\n",
       "Neighbourhood         81\n",
       "Scholarship            2\n",
       "Hypertension           2\n",
       "Diabetes               2\n",
       "Alcoholism             2\n",
       "Handicap               5\n",
       "SMS_received           2\n",
       "No-show                2\n",
       "dtype: int64"
      ]
     },
     "execution_count": 830,
     "metadata": {},
     "output_type": "execute_result"
    }
   ],
   "source": [
    "#check the unique data in each column\n",
    "\n",
    "df.nunique()"
   ]
  },
  {
   "cell_type": "markdown",
   "metadata": {},
   "source": [
    "### Observations\n",
    "From unique data,couple of important findings are worth to mention before we proceed toward exploratory data analysis. \n",
    "- There are  62298 unique PatientID which tells us that single patient scheduled several times since AppoinmentID shows 110526 unique rows.\n",
    "- Gender types are two(female and male)\n",
    "- Number of AppointmentDay are less than ScheduleDay which makes sense implying that from end of april to begining of june, there might be around 5 weeks and 27 individual day are practical. But we can confirm looking at them separately in the next cell. \n",
    "- Unique Age count are 103 which may need more categorization.\n",
    "- Neighbourhood count seems meaningful.\n",
    "- Scholarship,Hypertension,Diabetes,Alcoholism, Handicap,SMS_recieved remain within two values confirming absence or presence of the specificcondition. \n",
    "\n",
    "Let's look at those variables in details to explore pattern and trend and extract the valuable insight in order to predict if a patient will show up for their scheduled appointment or not."
   ]
  },
  {
   "cell_type": "code",
   "execution_count": 914,
   "metadata": {},
   "outputs": [
    {
     "name": "stdout",
     "output_type": "stream",
     "text": [
      "[F, M]\n",
      "Categories (2, object): [F, M]\n",
      "<DatetimeArray>\n",
      "['2016-04-29 00:00:00+00:00', '2016-05-03 00:00:00+00:00',\n",
      " '2016-05-10 00:00:00+00:00', '2016-05-17 00:00:00+00:00',\n",
      " '2016-05-24 00:00:00+00:00', '2016-05-31 00:00:00+00:00',\n",
      " '2016-05-02 00:00:00+00:00', '2016-05-30 00:00:00+00:00',\n",
      " '2016-05-16 00:00:00+00:00', '2016-05-04 00:00:00+00:00',\n",
      " '2016-05-19 00:00:00+00:00', '2016-05-12 00:00:00+00:00',\n",
      " '2016-05-06 00:00:00+00:00', '2016-05-20 00:00:00+00:00',\n",
      " '2016-05-05 00:00:00+00:00', '2016-05-13 00:00:00+00:00',\n",
      " '2016-05-09 00:00:00+00:00', '2016-05-25 00:00:00+00:00',\n",
      " '2016-05-11 00:00:00+00:00', '2016-05-18 00:00:00+00:00',\n",
      " '2016-05-14 00:00:00+00:00', '2016-06-02 00:00:00+00:00',\n",
      " '2016-06-03 00:00:00+00:00', '2016-06-06 00:00:00+00:00',\n",
      " '2016-06-07 00:00:00+00:00', '2016-06-01 00:00:00+00:00',\n",
      " '2016-06-08 00:00:00+00:00']\n",
      "Length: 27, dtype: datetime64[ns, UTC]\n",
      "['JARDIM DA PENHA' 'MATA DA PRAIA' 'PONTAL DE CAMBURI' 'REPÚBLICA'\n",
      " 'GOIABEIRAS' 'ANDORINHAS' 'CONQUISTA' 'NOVA PALESTINA' 'DA PENHA'\n",
      " 'TABUAZEIRO' 'BENTO FERREIRA' 'SÃO PEDRO' 'SANTA MARTHA' 'SÃO CRISTÓVÃO'\n",
      " 'MARUÍPE' 'GRANDE VITÓRIA' 'SÃO BENEDITO' 'ILHA DAS CAIEIRAS'\n",
      " 'SANTO ANDRÉ' 'SOLON BORGES' 'BONFIM' 'JARDIM CAMBURI' 'MARIA ORTIZ'\n",
      " 'JABOUR' 'ANTÔNIO HONÓRIO' 'RESISTÊNCIA' 'ILHA DE SANTA MARIA'\n",
      " 'JUCUTUQUARA' 'MONTE BELO' 'MÁRIO CYPRESTE' 'SANTO ANTÔNIO' 'BELA VISTA'\n",
      " 'PRAIA DO SUÁ' 'SANTA HELENA' 'ITARARÉ' 'INHANGUETÁ' 'UNIVERSITÁRIO'\n",
      " 'SÃO JOSÉ' 'REDENÇÃO' 'SANTA CLARA' 'CENTRO' 'PARQUE MOSCOSO'\n",
      " 'DO MOSCOSO' 'SANTOS DUMONT' 'CARATOÍRA' 'ARIOVALDO FAVALESSA'\n",
      " 'ILHA DO FRADE' 'GURIGICA' 'JOANA D´ARC' 'CONSOLAÇÃO' 'PRAIA DO CANTO'\n",
      " 'BOA VISTA' 'MORADA DE CAMBURI' 'SANTA LUÍZA' 'SANTA LÚCIA'\n",
      " 'BARRO VERMELHO' 'ESTRELINHA' 'FORTE SÃO JOÃO' 'FONTE GRANDE'\n",
      " 'ENSEADA DO SUÁ' 'SANTOS REIS' 'PIEDADE' 'JESUS DE NAZARETH'\n",
      " 'SANTA TEREZA' 'CRUZAMENTO' 'ILHA DO PRÍNCIPE' 'ROMÃO' 'COMDUSA'\n",
      " 'SANTA CECÍLIA' 'VILA RUBIM' 'DE LOURDES' 'DO QUADRO' 'DO CABRAL' 'HORTO'\n",
      " 'SEGURANÇA DO LAR' 'ILHA DO BOI' 'FRADINHOS' 'NAZARETH' 'AEROPORTO'\n",
      " 'ILHAS OCEÂNICAS DE TRINDADE' 'PARQUE INDUSTRIAL']\n",
      "[0, 1]\n",
      "Categories (2, int64): [0, 1]\n",
      "[1, 0]\n",
      "Categories (2, int64): [1, 0]\n",
      "[0, 1]\n",
      "Categories (2, int64): [0, 1]\n",
      "[0, 1]\n",
      "Categories (2, int64): [0, 1]\n",
      "[0, 1]\n",
      "Categories (2, int64): [0, 1]\n",
      "[0, 1, 2, 3, 4]\n",
      "Categories (5, int64): [0, 1, 2, 3, 4]\n",
      "[  0   1   2   3   4   5   6   7   8   9  10  11  12  13  14  15  16  17\n",
      "  18  19  20  21  22  23  24  25  26  27  28  29  30  31  32  33  34  35\n",
      "  36  37  38  39  40  41  42  43  44  45  46  47  48  49  50  51  52  53\n",
      "  54  55  56  57  58  59  60  61  62  63  64  65  66  67  68  69  70  71\n",
      "  72  73  74  75  76  77  78  79  80  81  82  83  84  85  86  87  88  89\n",
      "  90  91  92  93  94  95  96  97  98  99 100 102 115]\n"
     ]
    }
   ],
   "source": [
    "# print unique values of the variables of interest\n",
    "\n",
    "print(df.Gender.unique())\n",
    "print(df.AppointmentDay.unique())\n",
    "print(df.Neighbourhood.unique())\n",
    "print(df.Scholarship.unique())\n",
    "print(df.Hypertension.unique())\n",
    "print(df.Diabetes.unique())\n",
    "print(df.Alcoholism.unique())\n",
    "print(df.SMS_received.unique())\n",
    "print(df.Handicap.unique())\n",
    "print(np.sort(df.Age.unique()))\n",
    "\n",
    "\n",
    "\n"
   ]
  },
  {
   "cell_type": "markdown",
   "metadata": {},
   "source": [
    "### Observations\n",
    "- The unique value printed above reflects the categories of the variables and we can now start our excavation. \n",
    "- For health conditions such as Hypertension, Diabetes, Alcoholism ,value 1 means yes and 0 means no.\n",
    "- Same interpretation goes for SMS_received and enrollment in Brazilian Scholarship program. \n",
    "- For Handicap situation, 0 means the patient has no disability where the other values refer some levels of disability.\n",
    "- The age range is pretty broad( 1 to 115) and it would be easier to analyse the data if we categorize them. \n",
    "\n"
   ]
  },
  {
   "cell_type": "markdown",
   "metadata": {},
   "source": [
    "\n",
    "## Exploratory Data Analysis\n",
    "\n",
    "Now that I've trimmed and cleaned  data, I'm ready to move on to exploration. I computed statistics and created visualizations with the goal of addressing the research questions that I posed in the Introduction section. To be systematic with my approach, I looked at one variable at a time, and then followed it up by looking at relationships between variables.\n",
    "\n",
    "### Question 1: What is the age distribution among all the patients?"
   ]
  },
  {
   "cell_type": "code",
   "execution_count": 832,
   "metadata": {},
   "outputs": [
    {
     "data": {
      "text/plain": [
       "count    110526.000000\n",
       "mean         37.089219\n",
       "std          23.110026\n",
       "min           0.000000\n",
       "25%          18.000000\n",
       "50%          37.000000\n",
       "75%          55.000000\n",
       "max         115.000000\n",
       "Name: Age, dtype: float64"
      ]
     },
     "execution_count": 832,
     "metadata": {},
     "output_type": "execute_result"
    }
   ],
   "source": [
    "# Find age ditribution\n",
    "df.Age.describe()\n"
   ]
  },
  {
   "cell_type": "code",
   "execution_count": 833,
   "metadata": {},
   "outputs": [
    {
     "data": {
      "image/png": "[encoded data removed]",
      "text/plain": [
       "<Figure size 432x288 with 1 Axes>"
      ]
     },
     "metadata": {
      "needs_background": "light"
     },
     "output_type": "display_data"
    }
   ],
   "source": [
    "plt.hist(df.Age,bins= 10, alpha =0.8);\n",
    "plt.xlabel('Age')\n",
    "plt.ylabel('Count')\n",
    "plt.title('Patient count by age');"
   ]
  },
  {
   "cell_type": "code",
   "execution_count": 834,
   "metadata": {},
   "outputs": [
    {
     "data": {
      "image/png": "[encoded data removed]",
      "text/plain": [
       "<Figure size 432x288 with 1 Axes>"
      ]
     },
     "metadata": {
      "needs_background": "light"
     },
     "output_type": "display_data"
    }
   ],
   "source": [
    "# box plot\n",
    "df.Age.plot.box();"
   ]
  },
  {
   "cell_type": "markdown",
   "metadata": {},
   "source": [
    "### Observations\n",
    "- From the descriptive statistics of age and box plot, I find minimum age is 0 and maximum age is 115. \n",
    "- Also the distribution is skewed towards left side.\n",
    "- Most of the patients are within 18-55 years old. \n",
    "If we plot the entire age data against No-show up count for comparison, it would be too crowded on the X axis. Let's group them by age range of 20 and check how is the percentage distributed among those age groups and answer our next question. "
   ]
  },
  {
   "cell_type": "markdown",
   "metadata": {},
   "source": [
    "### Question 2: Does any age category have higher 'No -show' tendency over others?"
   ]
  },
  {
   "cell_type": "markdown",
   "metadata": {},
   "source": [
    "In this section, we will plot different age group with no-show/show status to get a pattern if there is any."
   ]
  },
  {
   "cell_type": "code",
   "execution_count": 835,
   "metadata": {},
   "outputs": [
    {
     "data": {
      "text/html": [
       "<div>\n",
       "<style scoped>\n",
       "    .dataframe tbody tr th:only-of-type {\n",
       "        vertical-align: middle;\n",
       "    }\n",
       "\n",
       "    .dataframe tbody tr th {\n",
       "        vertical-align: top;\n",
       "    }\n",
       "\n",
       "    .dataframe thead th {\n",
       "        text-align: right;\n",
       "    }\n",
       "</style>\n",
       "<table border=\"1\" class=\"dataframe\">\n",
       "  <thead>\n",
       "    <tr style=\"text-align: right;\">\n",
       "      <th></th>\n",
       "      <th>PatientID</th>\n",
       "      <th>AppointmentID</th>\n",
       "      <th>Gender</th>\n",
       "      <th>ScheduledDay</th>\n",
       "      <th>AppointmentDay</th>\n",
       "      <th>Age</th>\n",
       "      <th>Neighbourhood</th>\n",
       "      <th>Scholarship</th>\n",
       "      <th>Hypertension</th>\n",
       "      <th>Diabetes</th>\n",
       "      <th>Alcoholism</th>\n",
       "      <th>Handicap</th>\n",
       "      <th>SMS_received</th>\n",
       "      <th>No-show</th>\n",
       "      <th>AgeGroup</th>\n",
       "    </tr>\n",
       "  </thead>\n",
       "  <tbody>\n",
       "    <tr>\n",
       "      <th>0</th>\n",
       "      <td>29872499824296</td>\n",
       "      <td>5642903</td>\n",
       "      <td>F</td>\n",
       "      <td>2016-04-29 18:38:08+00:00</td>\n",
       "      <td>2016-04-29 00:00:00+00:00</td>\n",
       "      <td>62</td>\n",
       "      <td>JARDIM DA PENHA</td>\n",
       "      <td>0</td>\n",
       "      <td>1</td>\n",
       "      <td>0</td>\n",
       "      <td>0</td>\n",
       "      <td>0</td>\n",
       "      <td>0</td>\n",
       "      <td>No</td>\n",
       "      <td>60-79</td>\n",
       "    </tr>\n",
       "    <tr>\n",
       "      <th>1</th>\n",
       "      <td>558997776694438</td>\n",
       "      <td>5642503</td>\n",
       "      <td>M</td>\n",
       "      <td>2016-04-29 16:08:27+00:00</td>\n",
       "      <td>2016-04-29 00:00:00+00:00</td>\n",
       "      <td>56</td>\n",
       "      <td>JARDIM DA PENHA</td>\n",
       "      <td>0</td>\n",
       "      <td>0</td>\n",
       "      <td>0</td>\n",
       "      <td>0</td>\n",
       "      <td>0</td>\n",
       "      <td>0</td>\n",
       "      <td>No</td>\n",
       "      <td>40-59</td>\n",
       "    </tr>\n",
       "    <tr>\n",
       "      <th>2</th>\n",
       "      <td>4262962299951</td>\n",
       "      <td>5642549</td>\n",
       "      <td>F</td>\n",
       "      <td>2016-04-29 16:19:04+00:00</td>\n",
       "      <td>2016-04-29 00:00:00+00:00</td>\n",
       "      <td>62</td>\n",
       "      <td>MATA DA PRAIA</td>\n",
       "      <td>0</td>\n",
       "      <td>0</td>\n",
       "      <td>0</td>\n",
       "      <td>0</td>\n",
       "      <td>0</td>\n",
       "      <td>0</td>\n",
       "      <td>No</td>\n",
       "      <td>60-79</td>\n",
       "    </tr>\n",
       "    <tr>\n",
       "      <th>3</th>\n",
       "      <td>867951213174</td>\n",
       "      <td>5642828</td>\n",
       "      <td>F</td>\n",
       "      <td>2016-04-29 17:29:31+00:00</td>\n",
       "      <td>2016-04-29 00:00:00+00:00</td>\n",
       "      <td>8</td>\n",
       "      <td>PONTAL DE CAMBURI</td>\n",
       "      <td>0</td>\n",
       "      <td>0</td>\n",
       "      <td>0</td>\n",
       "      <td>0</td>\n",
       "      <td>0</td>\n",
       "      <td>0</td>\n",
       "      <td>No</td>\n",
       "      <td>&lt;20</td>\n",
       "    </tr>\n",
       "    <tr>\n",
       "      <th>4</th>\n",
       "      <td>8841186448183</td>\n",
       "      <td>5642494</td>\n",
       "      <td>F</td>\n",
       "      <td>2016-04-29 16:07:23+00:00</td>\n",
       "      <td>2016-04-29 00:00:00+00:00</td>\n",
       "      <td>56</td>\n",
       "      <td>JARDIM DA PENHA</td>\n",
       "      <td>0</td>\n",
       "      <td>1</td>\n",
       "      <td>1</td>\n",
       "      <td>0</td>\n",
       "      <td>0</td>\n",
       "      <td>0</td>\n",
       "      <td>No</td>\n",
       "      <td>40-59</td>\n",
       "    </tr>\n",
       "  </tbody>\n",
       "</table>\n",
       "</div>"
      ],
      "text/plain": [
       "         PatientID AppointmentID Gender              ScheduledDay  \\\n",
       "0   29872499824296       5642903      F 2016-04-29 18:38:08+00:00   \n",
       "1  558997776694438       5642503      M 2016-04-29 16:08:27+00:00   \n",
       "2    4262962299951       5642549      F 2016-04-29 16:19:04+00:00   \n",
       "3     867951213174       5642828      F 2016-04-29 17:29:31+00:00   \n",
       "4    8841186448183       5642494      F 2016-04-29 16:07:23+00:00   \n",
       "\n",
       "             AppointmentDay  Age      Neighbourhood Scholarship Hypertension  \\\n",
       "0 2016-04-29 00:00:00+00:00   62    JARDIM DA PENHA           0            1   \n",
       "1 2016-04-29 00:00:00+00:00   56    JARDIM DA PENHA           0            0   \n",
       "2 2016-04-29 00:00:00+00:00   62      MATA DA PRAIA           0            0   \n",
       "3 2016-04-29 00:00:00+00:00    8  PONTAL DE CAMBURI           0            0   \n",
       "4 2016-04-29 00:00:00+00:00   56    JARDIM DA PENHA           0            1   \n",
       "\n",
       "  Diabetes Alcoholism Handicap SMS_received No-show AgeGroup  \n",
       "0        0          0        0            0      No    60-79  \n",
       "1        0          0        0            0      No    40-59  \n",
       "2        0          0        0            0      No    60-79  \n",
       "3        0          0        0            0      No      <20  \n",
       "4        1          0        0            0      No    40-59  "
      ]
     },
     "execution_count": 835,
     "metadata": {},
     "output_type": "execute_result"
    }
   ],
   "source": [
    "# set bin edges that will be used to \"cut\" the data into age groups\n",
    "bin_edges = [0, 20, 40, 60, 80, 115]\n",
    "# create labels for each age group\n",
    "bin_names = ['<20', '20-39', '40-59', '60-79', '>=80']\n",
    "\n",
    "# create the 'AgeGroup' column\n",
    "df['AgeGroup'] = pd.cut(df['Age'], bin_edges, labels=bin_names, right=False, include_lowest=True)\n",
    "\n",
    "# check for successful creation of the column\n",
    "df.head()"
   ]
  },
  {
   "cell_type": "code",
   "execution_count": 836,
   "metadata": {},
   "outputs": [
    {
     "data": {
      "text/plain": [
       "No-show  AgeGroup\n",
       "No       <20         23670\n",
       "         20-39       22190\n",
       "         40-59       24416\n",
       "         60-79       15118\n",
       "         >=80         2811\n",
       "Yes      <20          6741\n",
       "         20-39        6680\n",
       "         40-59        5656\n",
       "         60-79        2692\n",
       "         >=80          547\n",
       "Name: Age, dtype: int64"
      ]
     },
     "execution_count": 836,
     "metadata": {},
     "output_type": "execute_result"
    }
   ],
   "source": [
    "# get counts for each age group and show up status\n",
    "age_group_counts = df.groupby(['No-show','AgeGroup']).count().Age\n",
    "age_group_counts\n"
   ]
  },
  {
   "cell_type": "code",
   "execution_count": 837,
   "metadata": {},
   "outputs": [
    {
     "data": {
      "text/plain": [
       "No-show\n",
       "No     88207\n",
       "Yes    22319\n",
       "Name: Age, dtype: int64"
      ]
     },
     "execution_count": 837,
     "metadata": {},
     "output_type": "execute_result"
    }
   ],
   "source": [
    "# get total counts for each show up status\n",
    "show_up_totals = df.groupby('No-show').count().Age\n",
    "show_up_totals"
   ]
  },
  {
   "cell_type": "code",
   "execution_count": 838,
   "metadata": {},
   "outputs": [
    {
     "data": {
      "image/png": "[encoded data removed]",
      "text/plain": [
       "<Figure size 432x288 with 1 Axes>"
      ]
     },
     "metadata": {},
     "output_type": "display_data"
    }
   ],
   "source": [
    "# percentage of not showing up patient\n",
    "\n",
    "# plot pie chart\n",
    "plt.pie(show_up_totals,labels=['Show','No-show'], colors=['coral','lightblue'],autopct='%.0f')\n",
    "plt.axis('equal')\n",
    "plt.title('Percentage of Present and Absent Patients');\n"
   ]
  },
  {
   "cell_type": "markdown",
   "metadata": {},
   "source": [
    "### Observations\n",
    "- 80% of total patients showed up on appointment day."
   ]
  },
  {
   "cell_type": "code",
   "execution_count": 839,
   "metadata": {},
   "outputs": [
    {
     "data": {
      "text/plain": [
       "AgeGroup\n",
       "<20      0.302030\n",
       "20-39    0.299297\n",
       "40-59    0.253416\n",
       "60-79    0.120615\n",
       ">=80     0.024508\n",
       "Name: Age, dtype: float64"
      ]
     },
     "execution_count": 839,
     "metadata": {},
     "output_type": "execute_result"
    }
   ],
   "source": [
    "#get proportions by dividing each age group counts by total # of No-show(Yes) status counts\n",
    "no_show_proportions = age_group_counts['Yes']/show_up_totals['Yes']\n",
    "no_show_proportions\n"
   ]
  },
  {
   "cell_type": "code",
   "execution_count": 840,
   "metadata": {},
   "outputs": [
    {
     "data": {
      "text/plain": [
       "AgeGroup\n",
       "<20      0.268346\n",
       "20-39    0.251567\n",
       "40-59    0.276803\n",
       "60-79    0.171392\n",
       ">=80     0.031868\n",
       "Name: Age, dtype: float64"
      ]
     },
     "execution_count": 840,
     "metadata": {},
     "output_type": "execute_result"
    }
   ],
   "source": [
    "# get proportion by dividing each age group counts by total # of No-show(No] status counts\n",
    "show_proportions = age_group_counts['No']/show_up_totals['No']\n",
    "show_proportions"
   ]
  },
  {
   "cell_type": "markdown",
   "metadata": {},
   "source": [
    "### Plot proportions on a bar chart\n",
    "Set the x coordinate location for each age group and width of each bar."
   ]
  },
  {
   "cell_type": "code",
   "execution_count": 841,
   "metadata": {},
   "outputs": [],
   "source": [
    "ind = np.arange(len(no_show_proportions))  # the x locations for the groups\n",
    "width = 0.35       # the width of the bars"
   ]
  },
  {
   "cell_type": "markdown",
   "metadata": {},
   "source": [
    "Now let's create the plot."
   ]
  },
  {
   "cell_type": "code",
   "execution_count": 842,
   "metadata": {},
   "outputs": [
    {
     "data": {
      "image/png": "[encoded data removed]",
      "text/plain": [
       "<Figure size 432x288 with 1 Axes>"
      ]
     },
     "metadata": {
      "needs_background": "light"
     },
     "output_type": "display_data"
    }
   ],
   "source": [
    "# plot bars\n",
    "no_show_bars = plt.bar(ind,no_show_proportions, width, color='orange', alpha=0.8, label = 'No_show')\n",
    "show_bars = plt.bar(ind + width,show_proportions, width, color='purple', alpha=0.8, label = 'Show')\n",
    "\n",
    "# title and labels\n",
    "plt.xlabel('Age Group')\n",
    "plt.ylabel('Proportion')\n",
    "locations = ind + width/2 # xtick locations\n",
    "labels = (['<20', '20-39', '40-59', '60-79', '>=80']) # xtick labels\n",
    "plt.title(\"Proportion of Patients' show/no-show Status According to Age Groups\")\n",
    "plt.xticks(locations,labels);\n",
    "\n",
    "# legend\n",
    "plt.legend();\n"
   ]
  },
  {
   "cell_type": "markdown",
   "metadata": {},
   "source": [
    "### Observations\n",
    "- The above plot confirms the findings from descriptive plot of age distribution. \n",
    "- Number of patients who did not show up are mostly within first two age groups i.e from age of  0 to 39 .  Patients above age of 40 are more likely to show up at appoinment day."
   ]
  },
  {
   "cell_type": "markdown",
   "metadata": {},
   "source": [
    "### Question 3: What is the gender profile of all the patients?"
   ]
  },
  {
   "cell_type": "markdown",
   "metadata": {},
   "source": [
    "To answer the above question regarding gender profile we can plot the total counts of patients grouped by gender. Let's plot a pie chart."
   ]
  },
  {
   "cell_type": "code",
   "execution_count": 844,
   "metadata": {},
   "outputs": [
    {
     "data": {
      "text/plain": [
       "Gender\n",
       "F    71839\n",
       "M    38687\n",
       "Name: Age, dtype: int64"
      ]
     },
     "execution_count": 844,
     "metadata": {},
     "output_type": "execute_result"
    }
   ],
   "source": [
    "# get the patient counts grouped by gender\n",
    "\n",
    "patient_count_by_gender = df.groupby('Gender').count().Age\n",
    "patient_count_by_gender\n"
   ]
  },
  {
   "cell_type": "code",
   "execution_count": 845,
   "metadata": {},
   "outputs": [
    {
     "data": {
      "image/png": "[encoded data removed]",
      "text/plain": [
       "<Figure size 432x288 with 1 Axes>"
      ]
     },
     "metadata": {},
     "output_type": "display_data"
    }
   ],
   "source": [
    "# plot pie chart\n",
    "plt.pie(patient_count_by_gender,labels=['Female','Male'], colors=['coral','lightblue'],autopct='%.0f')\n",
    "plt.axis('equal')\n",
    "plt.title('Percentage of Male and Female Patients');"
   ]
  },
  {
   "cell_type": "markdown",
   "metadata": {},
   "source": [
    "### Observations\n",
    "- Number of female patients are higher than male patients. 65% to 35%"
   ]
  },
  {
   "cell_type": "markdown",
   "metadata": {},
   "source": [
    "### Question 4:What is the distribution of gender in No-show up category?"
   ]
  },
  {
   "cell_type": "markdown",
   "metadata": {},
   "source": [
    "I am now interested to look into the gender distribution and how it plays a role in case of not turning up at appointment day. Let's group the 'No-show' status by gender and then plot a bar chart with no-show and show proportion against female and male patients."
   ]
  },
  {
   "cell_type": "code",
   "execution_count": 846,
   "metadata": {},
   "outputs": [
    {
     "data": {
      "text/plain": [
       "No-show  Gender\n",
       "No       F         57245\n",
       "         M         30962\n",
       "Yes      F         14594\n",
       "         M          7725\n",
       "Name: PatientID, dtype: int64"
      ]
     },
     "execution_count": 846,
     "metadata": {},
     "output_type": "execute_result"
    }
   ],
   "source": [
    "# get distribution of gender in no-show up category\n",
    "gender_group_counts = df.groupby(['No-show','Gender']).count().PatientID\n",
    "gender_group_counts"
   ]
  },
  {
   "cell_type": "code",
   "execution_count": 847,
   "metadata": {},
   "outputs": [
    {
     "data": {
      "text/plain": [
       "Gender\n",
       "F    0.653882\n",
       "M    0.346118\n",
       "Name: PatientID, dtype: float64"
      ]
     },
     "execution_count": 847,
     "metadata": {},
     "output_type": "execute_result"
    }
   ],
   "source": [
    "#get proportions by dividing gender group counts by total # of No-show(Yes) status counts\n",
    "no_show_proportions = gender_group_counts['Yes']/show_up_totals['Yes']\n",
    "no_show_proportions"
   ]
  },
  {
   "cell_type": "code",
   "execution_count": 848,
   "metadata": {},
   "outputs": [
    {
     "data": {
      "text/plain": [
       "Gender\n",
       "F    0.648985\n",
       "M    0.351015\n",
       "Name: PatientID, dtype: float64"
      ]
     },
     "execution_count": 848,
     "metadata": {},
     "output_type": "execute_result"
    }
   ],
   "source": [
    "#get proportions by dividing gender group counts by total # of No-show(No) status counts\n",
    "show_proportions = gender_group_counts['No']/show_up_totals['No']\n",
    "show_proportions"
   ]
  },
  {
   "cell_type": "markdown",
   "metadata": {},
   "source": [
    "### Plot proportions on a bar chart\n",
    "Set the x coordinate location for each age group and width of each bar."
   ]
  },
  {
   "cell_type": "code",
   "execution_count": 849,
   "metadata": {},
   "outputs": [],
   "source": [
    "ind = np.arange(len(no_show_proportions))  # the x locations for the groups\n",
    "width = 0.35       # the width of the bars"
   ]
  },
  {
   "cell_type": "code",
   "execution_count": 850,
   "metadata": {},
   "outputs": [
    {
     "data": {
      "image/png": "[encoded data removed]",
      "text/plain": [
       "<Figure size 432x288 with 1 Axes>"
      ]
     },
     "metadata": {
      "needs_background": "light"
     },
     "output_type": "display_data"
    }
   ],
   "source": [
    "# plot bars\n",
    "no_show_bars = plt.bar(ind,no_show_proportions, width, color='orange', alpha=0.8, label = 'No-show')\n",
    "show_bars = plt.bar(ind + width,show_proportions, width, color='purple', alpha=0.8, label = 'Show')\n",
    "\n",
    "# title and labels\n",
    "plt.xlabel('Gender')\n",
    "plt.ylabel('Proportion')\n",
    "locations = ind + width/2 # xtick locations\n",
    "labels = (['Female', 'Male']) # xtick labels\n",
    "plt.title(\"Proportion of Patients' show/no-show Status According to Gender\")\n",
    "plt.xticks(locations,labels)\n",
    "\n",
    "# legend\n",
    "plt.legend();"
   ]
  },
  {
   "cell_type": "markdown",
   "metadata": {},
   "source": [
    "### Observations\n",
    "- No significant difference in proportion is visible between female and male patients who did/did NOT show up. So there is no impact of gender in case of not visiting on appointment day even after scheduling for that."
   ]
  },
  {
   "cell_type": "markdown",
   "metadata": {},
   "source": [
    "### Question 5:How does a dibetes patient respond to an appointment?"
   ]
  },
  {
   "cell_type": "markdown",
   "metadata": {},
   "source": [
    "It would be a similar approach to find the pattern among diabetes patient regarding not showing up at appointment day. I will groupby by no-show status and then plot against health conditions such as diabetes, hypertension and alcoholism."
   ]
  },
  {
   "cell_type": "code",
   "execution_count": 851,
   "metadata": {},
   "outputs": [
    {
     "data": {
      "text/plain": [
       "No-show  Diabetes\n",
       "No       0           81694\n",
       "         1            6513\n",
       "Yes      0           20889\n",
       "         1            1430\n",
       "Name: PatientID, dtype: int64"
      ]
     },
     "execution_count": 851,
     "metadata": {},
     "output_type": "execute_result"
    }
   ],
   "source": [
    "# get distribution of diabetic pateint in no-show up category\n",
    "diabetes_group_counts = df.groupby(['No-show','Diabetes']).count().PatientID\n",
    "diabetes_group_counts "
   ]
  },
  {
   "cell_type": "code",
   "execution_count": 852,
   "metadata": {},
   "outputs": [
    {
     "data": {
      "text/plain": [
       "Diabetes\n",
       "0    0.935929\n",
       "1    0.064071\n",
       "Name: PatientID, dtype: float64"
      ]
     },
     "execution_count": 852,
     "metadata": {},
     "output_type": "execute_result"
    }
   ],
   "source": [
    "#get proportions by dividing diabetes group counts by total # of No-show(Yes) status counts\n",
    "no_show_proportions = diabetes_group_counts['Yes']/show_up_totals['Yes']\n",
    "no_show_proportions"
   ]
  },
  {
   "cell_type": "code",
   "execution_count": 853,
   "metadata": {},
   "outputs": [
    {
     "data": {
      "text/plain": [
       "Diabetes\n",
       "0    0.926162\n",
       "1    0.073838\n",
       "Name: PatientID, dtype: float64"
      ]
     },
     "execution_count": 853,
     "metadata": {},
     "output_type": "execute_result"
    }
   ],
   "source": [
    "#get proportions by dividing diabetes group counts by total # of No-show(No) status counts\n",
    "show_proportions = diabetes_group_counts['No']/show_up_totals['No']\n",
    "show_proportions"
   ]
  },
  {
   "cell_type": "code",
   "execution_count": 854,
   "metadata": {},
   "outputs": [],
   "source": [
    "#location of x axis varaiable\n",
    "ind = np.arange(len(no_show_proportions))  # the x locations for the groups\n",
    "width = 0.35       # the width of the bars"
   ]
  },
  {
   "cell_type": "markdown",
   "metadata": {},
   "source": [
    "### Plot proportions on a bar chart"
   ]
  },
  {
   "cell_type": "code",
   "execution_count": 855,
   "metadata": {},
   "outputs": [
    {
     "data": {
      "image/png": "[encoded data removed]",
      "text/plain": [
       "<Figure size 432x288 with 1 Axes>"
      ]
     },
     "metadata": {
      "needs_background": "light"
     },
     "output_type": "display_data"
    }
   ],
   "source": [
    "# plot bars \n",
    "no_show_bars = plt.bar(ind,no_show_proportions, width, color='orange', alpha=0.8, label = 'No-show')\n",
    "show_bars = plt.bar(ind + width,show_proportions, width, color='purple', alpha=0.8, label = 'Show')\n",
    "    \n",
    "#labels and title\n",
    "plt.xlabel('Diabetes')\n",
    "plt.ylabel('Proportion')\n",
    "locations = ind + width/2 # xtick locations\n",
    "labels = (['No','Yes']) # xtick labels\n",
    "plt.title(\"Proportion of Patients' show/no-show Status According to Diabetes\")\n",
    "plt.xticks(locations,labels)\n",
    "    \n",
    "#legend\n",
    "plt.legend();\n",
    "    "
   ]
  },
  {
   "cell_type": "code",
   "execution_count": 856,
   "metadata": {},
   "outputs": [
    {
     "data": {
      "text/plain": [
       "Diabetes\n",
       "0    102583\n",
       "1      7943\n",
       "Name: Age, dtype: int64"
      ]
     },
     "execution_count": 856,
     "metadata": {},
     "output_type": "execute_result"
    }
   ],
   "source": [
    "# percentage of Diabetes patient\n",
    "\n",
    "# get the patient counts grouped by dibetes\n",
    "\n",
    "patient_count_by_diabetes = df.groupby('Diabetes').count().Age\n",
    "patient_count_by_diabetes\n",
    "\n"
   ]
  },
  {
   "cell_type": "code",
   "execution_count": 857,
   "metadata": {},
   "outputs": [
    {
     "data": {
      "image/png": "[encoded data removed]",
      "text/plain": [
       "<Figure size 432x288 with 1 Axes>"
      ]
     },
     "metadata": {},
     "output_type": "display_data"
    }
   ],
   "source": [
    "# plot pie chart\n",
    "plt.pie(patient_count_by_diabetes,labels=['Yes','No'], colors=['coral','lightblue'],autopct='%.0f')\n",
    "plt.axis('equal')\n",
    "plt.title('Percentage of Diabetes Patient');"
   ]
  },
  {
   "cell_type": "markdown",
   "metadata": {},
   "source": [
    "### Observations\n",
    "- Only 7 % of all patients  have diabetes.\n",
    "- Patient with diabetes have shown up less on the appointment day than patient who doesn't have it. On the other hand, most of the patients who do not have diabetes have higher record of attending the hospital on thier appointment day. Although the difference is small, but diabetic patient seems less caring in regard to hospital visit."
   ]
  },
  {
   "cell_type": "markdown",
   "metadata": {},
   "source": [
    "### Question 6:How does a hypertensive patient respond to an appointment?"
   ]
  },
  {
   "cell_type": "code",
   "execution_count": 858,
   "metadata": {},
   "outputs": [
    {
     "data": {
      "text/plain": [
       "No-show  Hypertension\n",
       "No       0               70178\n",
       "         1               18029\n",
       "Yes      0               18547\n",
       "         1                3772\n",
       "Name: PatientID, dtype: int64"
      ]
     },
     "execution_count": 858,
     "metadata": {},
     "output_type": "execute_result"
    }
   ],
   "source": [
    "# get distribution of hypertensive patient in no-show up category\n",
    "hypertension_group_counts = df.groupby(['No-show','Hypertension']).count().PatientID\n",
    "hypertension_group_counts "
   ]
  },
  {
   "cell_type": "code",
   "execution_count": 859,
   "metadata": {},
   "outputs": [
    {
     "data": {
      "text/plain": [
       "Hypertension\n",
       "0    0.830996\n",
       "1    0.169004\n",
       "Name: PatientID, dtype: float64"
      ]
     },
     "execution_count": 859,
     "metadata": {},
     "output_type": "execute_result"
    }
   ],
   "source": [
    "#get proportions by dividing hypertension group counts by total # of No-show(Yes) status counts\n",
    "no_show_proportions = hypertension_group_counts['Yes']/show_up_totals['Yes']\n",
    "no_show_proportions"
   ]
  },
  {
   "cell_type": "code",
   "execution_count": 860,
   "metadata": {},
   "outputs": [
    {
     "data": {
      "text/plain": [
       "Hypertension\n",
       "0    0.795606\n",
       "1    0.204394\n",
       "Name: PatientID, dtype: float64"
      ]
     },
     "execution_count": 860,
     "metadata": {},
     "output_type": "execute_result"
    }
   ],
   "source": [
    "#get proportions by dividing hypertension group counts by total # of No-show(No) status counts\n",
    "show_proportions = hypertension_group_counts['No']/show_up_totals['No']\n",
    "show_proportions"
   ]
  },
  {
   "cell_type": "markdown",
   "metadata": {},
   "source": [
    "### Plot proportions on a bar chart"
   ]
  },
  {
   "cell_type": "code",
   "execution_count": 861,
   "metadata": {},
   "outputs": [],
   "source": [
    "#location of x axis varaiable\n",
    "ind = np.arange(len(no_show_proportions))  # the x locations for the groups\n",
    "width = 0.35       # the width of the bars"
   ]
  },
  {
   "cell_type": "code",
   "execution_count": 862,
   "metadata": {},
   "outputs": [
    {
     "data": {
      "image/png": "[encoded data removed]",
      "text/plain": [
       "<Figure size 432x288 with 1 Axes>"
      ]
     },
     "metadata": {
      "needs_background": "light"
     },
     "output_type": "display_data"
    }
   ],
   "source": [
    "# plot bars \n",
    "no_show_bars = plt.bar(ind,no_show_proportions, width, color='orange', alpha=0.8, label = 'No-show')\n",
    "show_bars = plt.bar(ind + width,show_proportions, width, color='purple', alpha=0.8, label = 'Show')\n",
    "    \n",
    "#labels and title\n",
    "plt.xlabel('Hypertension')\n",
    "plt.ylabel('Proportion')\n",
    "locations = ind + width/2 # xtick locations\n",
    "labels = (['No','Yes']) # xtick labels\n",
    "plt.title(\"Proportion of Patients' show/no-show Status According to Hypertension\")\n",
    "plt.xticks(locations,labels)\n",
    "    \n",
    "#legend\n",
    "plt.legend();\n",
    "    "
   ]
  },
  {
   "cell_type": "code",
   "execution_count": 863,
   "metadata": {},
   "outputs": [
    {
     "data": {
      "text/plain": [
       "Hypertension\n",
       "0    88725\n",
       "1    21801\n",
       "Name: PatientID, dtype: int64"
      ]
     },
     "execution_count": 863,
     "metadata": {},
     "output_type": "execute_result"
    }
   ],
   "source": [
    "# percentage of Hypertensive patient\n",
    "\n",
    "# get the patient counts grouped by hypertension\n",
    "\n",
    "patient_count_by_hypertension = df.groupby('Hypertension').count().PatientID\n",
    "patient_count_by_hypertension\n",
    "\n"
   ]
  },
  {
   "cell_type": "code",
   "execution_count": 864,
   "metadata": {},
   "outputs": [
    {
     "data": {
      "image/png": "[encoded data removed]",
      "text/plain": [
       "<Figure size 432x288 with 1 Axes>"
      ]
     },
     "metadata": {},
     "output_type": "display_data"
    }
   ],
   "source": [
    "# plot pie chart\n",
    "plt.pie(patient_count_by_hypertension,labels=['No','Yes'], colors=['coral','lightblue'],autopct='%.2f')\n",
    "plt.axis('equal')\n",
    "plt.title('Percentage of Patient with Hypertension ');"
   ]
  },
  {
   "cell_type": "markdown",
   "metadata": {},
   "source": [
    "### Observations\n",
    "- 80 % of total patient do not have Hypertension and they are less likely to show up on appointment day.\n",
    "- Rest of the patients who have Hypertension did attend the visit.\n"
   ]
  },
  {
   "cell_type": "markdown",
   "metadata": {},
   "source": [
    "### Question 7: How does a patient with alcohol addiction respond to an appointment?"
   ]
  },
  {
   "cell_type": "code",
   "execution_count": 865,
   "metadata": {},
   "outputs": [
    {
     "data": {
      "text/plain": [
       "No-show  Alcoholism\n",
       "No       0             85524\n",
       "         1              2683\n",
       "Yes      0             21642\n",
       "         1               677\n",
       "Name: PatientID, dtype: int64"
      ]
     },
     "execution_count": 865,
     "metadata": {},
     "output_type": "execute_result"
    }
   ],
   "source": [
    "# get distribution of alcoholism in no-show up category\n",
    "alcohol_group_counts = df.groupby(['No-show','Alcoholism']).count().PatientID\n",
    "alcohol_group_counts "
   ]
  },
  {
   "cell_type": "code",
   "execution_count": 866,
   "metadata": {},
   "outputs": [
    {
     "data": {
      "text/plain": [
       "Alcoholism\n",
       "0    0.969667\n",
       "1    0.030333\n",
       "Name: PatientID, dtype: float64"
      ]
     },
     "execution_count": 866,
     "metadata": {},
     "output_type": "execute_result"
    }
   ],
   "source": [
    "#get proportions by dividing alcohol group counts by total # of No-show(Yes) status counts\n",
    "no_show_proportions = alcohol_group_counts['Yes']/show_up_totals['Yes']\n",
    "no_show_proportions"
   ]
  },
  {
   "cell_type": "code",
   "execution_count": 867,
   "metadata": {},
   "outputs": [
    {
     "data": {
      "text/plain": [
       "Alcoholism\n",
       "0    0.969583\n",
       "1    0.030417\n",
       "Name: PatientID, dtype: float64"
      ]
     },
     "execution_count": 867,
     "metadata": {},
     "output_type": "execute_result"
    }
   ],
   "source": [
    "#get proportions by dividing alcohol group counts by total # of No-show(No) status counts\n",
    "show_proportions = alcohol_group_counts['No']/show_up_totals['No']\n",
    "show_proportions"
   ]
  },
  {
   "cell_type": "markdown",
   "metadata": {},
   "source": [
    "### Plot proportions on a bar chart"
   ]
  },
  {
   "cell_type": "code",
   "execution_count": 868,
   "metadata": {},
   "outputs": [],
   "source": [
    "#location of x axis varaiable\n",
    "ind = np.arange(len(no_show_proportions))  # the x locations for the groups\n",
    "width = 0.35       # the width of the bars"
   ]
  },
  {
   "cell_type": "code",
   "execution_count": 869,
   "metadata": {},
   "outputs": [
    {
     "data": {
      "image/png": "[encoded data removed]",
      "text/plain": [
       "<Figure size 432x288 with 1 Axes>"
      ]
     },
     "metadata": {
      "needs_background": "light"
     },
     "output_type": "display_data"
    }
   ],
   "source": [
    "# plot bars \n",
    "no_show_bars = plt.bar(ind,no_show_proportions, width, color='orange', alpha=0.8, label = 'No-show')\n",
    "show_bars = plt.bar(ind + width,show_proportions, width, color='purple', alpha=0.8, label = 'Show')\n",
    "    \n",
    "#labels and title\n",
    "plt.xlabel('Alcoholism')\n",
    "plt.ylabel('Proportion')\n",
    "locations = ind + width/2 # xtick locations\n",
    "labels = (['No','Yes']) # xtick labels\n",
    "plt.title(\"Proportion of Patients' show/no-show Status According to Alcoholism\")\n",
    "plt.xticks(locations,labels)\n",
    "    \n",
    "#legend\n",
    "plt.legend();"
   ]
  },
  {
   "cell_type": "code",
   "execution_count": 870,
   "metadata": {},
   "outputs": [
    {
     "data": {
      "text/plain": [
       "Alcoholism\n",
       "0    107166\n",
       "1      3360\n",
       "Name: PatientID, dtype: int64"
      ]
     },
     "execution_count": 870,
     "metadata": {},
     "output_type": "execute_result"
    }
   ],
   "source": [
    "# percentage of alcohol addiced patient\n",
    "\n",
    "# get the patient counts grouped by alcoholism\n",
    "\n",
    "patient_count_by_alcoholism = df.groupby('Alcoholism').count().PatientID\n",
    "patient_count_by_alcoholism\n",
    "\n"
   ]
  },
  {
   "cell_type": "code",
   "execution_count": 871,
   "metadata": {},
   "outputs": [
    {
     "data": {
      "image/png": "[encoded data removed]",
      "text/plain": [
       "<Figure size 432x288 with 1 Axes>"
      ]
     },
     "metadata": {},
     "output_type": "display_data"
    }
   ],
   "source": [
    "# plot pie chart\n",
    "plt.pie(patient_count_by_alcoholism,labels=['No','Yes'], colors=['coral','lightblue'],autopct='%.2f')\n",
    "plt.axis('equal')\n",
    "plt.title('Percentage of Patient with Alcoholism');"
   ]
  },
  {
   "cell_type": "code",
   "execution_count": 876,
   "metadata": {},
   "outputs": [
    {
     "data": {
      "image/png": "[encoded data removed]",
      "text/plain": [
       "<Figure size 432x288 with 1 Axes>"
      ]
     },
     "metadata": {
      "needs_background": "light"
     },
     "output_type": "display_data"
    }
   ],
   "source": [
    "# count plot of no show category for patients with alcohol addiction\n",
    "patient_count_by_alcoholism.plot(kind='bar')\n",
    "plt.xlabel('Alcoholism')\n",
    "plt.ylabel('Patient count')\n",
    "plt.title('Patient count by alcohol addiction');\n",
    "\n"
   ]
  },
  {
   "cell_type": "markdown",
   "metadata": {},
   "source": [
    "### Observations\n",
    "- Only 3% patients have alcohol addiction problem.\n",
    "- Among two groups the ratio of show and no-show trend is similar."
   ]
  },
  {
   "cell_type": "markdown",
   "metadata": {},
   "source": [
    "### Question 8: Does text reminder help in getting less 'No-show' response?"
   ]
  },
  {
   "cell_type": "code",
   "execution_count": 877,
   "metadata": {},
   "outputs": [
    {
     "data": {
      "text/plain": [
       "No-show  SMS_received\n",
       "No       0               62509\n",
       "         1               25698\n",
       "Yes      0               12535\n",
       "         1                9784\n",
       "Name: PatientID, dtype: int64"
      ]
     },
     "execution_count": 877,
     "metadata": {},
     "output_type": "execute_result"
    }
   ],
   "source": [
    "# get distribution of text reminder in no-show up category\n",
    "sms_group_counts = df.groupby(['No-show','SMS_received']).count().PatientID\n",
    "sms_group_counts "
   ]
  },
  {
   "cell_type": "code",
   "execution_count": 878,
   "metadata": {},
   "outputs": [
    {
     "data": {
      "text/plain": [
       "SMS_received\n",
       "0    0.561629\n",
       "1    0.438371\n",
       "Name: PatientID, dtype: float64"
      ]
     },
     "execution_count": 878,
     "metadata": {},
     "output_type": "execute_result"
    }
   ],
   "source": [
    "#get proportions by dividing sms group counts by total # of No-show(Yes) status counts\n",
    "no_show_proportions = sms_group_counts['Yes']/show_up_totals['Yes']\n",
    "no_show_proportions"
   ]
  },
  {
   "cell_type": "code",
   "execution_count": 879,
   "metadata": {},
   "outputs": [
    {
     "data": {
      "text/plain": [
       "SMS_received\n",
       "0    0.708663\n",
       "1    0.291337\n",
       "Name: PatientID, dtype: float64"
      ]
     },
     "execution_count": 879,
     "metadata": {},
     "output_type": "execute_result"
    }
   ],
   "source": [
    "#get proportions by dividing sms group counts by total # of No-show(No) status counts\n",
    "show_proportions = sms_group_counts['No']/show_up_totals['No']\n",
    "show_proportions"
   ]
  },
  {
   "cell_type": "markdown",
   "metadata": {},
   "source": [
    "### Plot proportions on a bar chart"
   ]
  },
  {
   "cell_type": "code",
   "execution_count": 880,
   "metadata": {},
   "outputs": [],
   "source": [
    "#location of x axis varaiable\n",
    "ind = np.arange(len(no_show_proportions))  # the x locations for the groups\n",
    "width = 0.35       # the width of the bars"
   ]
  },
  {
   "cell_type": "code",
   "execution_count": 881,
   "metadata": {},
   "outputs": [
    {
     "data": {
      "image/png": "[encoded data removed]",
      "text/plain": [
       "<Figure size 432x288 with 1 Axes>"
      ]
     },
     "metadata": {
      "needs_background": "light"
     },
     "output_type": "display_data"
    }
   ],
   "source": [
    "# plot bars \n",
    "no_show_bars = plt.bar(ind,no_show_proportions, width, color='orange', alpha=0.8, label = 'No-show')\n",
    "show_bars = plt.bar(ind + width,show_proportions, width, color='purple', alpha=0.8, label = 'Show')\n",
    "    \n",
    "#labels and title\n",
    "plt.xlabel('SMS_received')\n",
    "plt.ylabel('Proportion')\n",
    "locations = ind + width/2 # xtick locations\n",
    "labels = (['No','Yes']) # xtick labels\n",
    "plt.title(\"Proportion of Patients' show/no-show Status According to SMS receival\")\n",
    "plt.xticks(locations,labels)\n",
    "    \n",
    "#legend\n",
    "plt.legend();"
   ]
  },
  {
   "cell_type": "code",
   "execution_count": 882,
   "metadata": {},
   "outputs": [
    {
     "data": {
      "text/plain": [
       "SMS_received\n",
       "0    75044\n",
       "1    35482\n",
       "Name: PatientID, dtype: int64"
      ]
     },
     "execution_count": 882,
     "metadata": {},
     "output_type": "execute_result"
    }
   ],
   "source": [
    "# percentage of patient who got text reminder\n",
    "\n",
    "# get the patient counts grouped by sms receival\n",
    "\n",
    "patient_count_by_sms = df.groupby('SMS_received').count().PatientID\n",
    "patient_count_by_sms"
   ]
  },
  {
   "cell_type": "code",
   "execution_count": 883,
   "metadata": {},
   "outputs": [
    {
     "data": {
      "image/png": "[encoded data removed]",
      "text/plain": [
       "<Figure size 432x288 with 1 Axes>"
      ]
     },
     "metadata": {},
     "output_type": "display_data"
    }
   ],
   "source": [
    "# plot pie chart\n",
    "plt.pie(patient_count_by_sms,labels=['No','Yes'], colors=['coral','lightblue'],autopct='%.2f')\n",
    "plt.axis('equal')\n",
    "plt.title('Percentage of Patient with SMS receival');"
   ]
  },
  {
   "cell_type": "markdown",
   "metadata": {},
   "source": [
    "### Observations\n",
    "- Patients who received a text reminder has less percentage(32%) in total patient count.\n",
    "- Patient who did not receive a text reminder showed up more. So, a text reminder did not really impact on their decision of showing up in this case."
   ]
  },
  {
   "cell_type": "markdown",
   "metadata": {},
   "source": [
    "### Question 9: Does scholarship play any part in showing up on scheduled appointment day?"
   ]
  },
  {
   "cell_type": "code",
   "execution_count": 884,
   "metadata": {},
   "outputs": [
    {
     "data": {
      "text/plain": [
       "No-show  SMS_received\n",
       "No       0               62509\n",
       "         1               25698\n",
       "Yes      0               12535\n",
       "         1                9784\n",
       "Name: PatientID, dtype: int64"
      ]
     },
     "execution_count": 884,
     "metadata": {},
     "output_type": "execute_result"
    }
   ],
   "source": [
    "# get distribution of scholarship in no-show up category\n",
    "scholarship_group_counts = df.groupby(['No-show','SMS_received']).count().PatientID\n",
    "scholarship_group_counts "
   ]
  },
  {
   "cell_type": "code",
   "execution_count": 885,
   "metadata": {},
   "outputs": [
    {
     "data": {
      "text/plain": [
       "SMS_received\n",
       "0    0.561629\n",
       "1    0.438371\n",
       "Name: PatientID, dtype: float64"
      ]
     },
     "execution_count": 885,
     "metadata": {},
     "output_type": "execute_result"
    }
   ],
   "source": [
    "#get proportions by dividing scholarship group counts by total # of No-show(Yes) status counts\n",
    "no_show_proportions = scholarship_group_counts['Yes']/show_up_totals['Yes']\n",
    "no_show_proportions"
   ]
  },
  {
   "cell_type": "code",
   "execution_count": 886,
   "metadata": {},
   "outputs": [
    {
     "data": {
      "text/plain": [
       "SMS_received\n",
       "0    0.708663\n",
       "1    0.291337\n",
       "Name: PatientID, dtype: float64"
      ]
     },
     "execution_count": 886,
     "metadata": {},
     "output_type": "execute_result"
    }
   ],
   "source": [
    "#get proportions by dividing scholarship group counts by total # of No-show(No) status counts\n",
    "show_proportions = scholarship_group_counts['No']/show_up_totals['No']\n",
    "show_proportions"
   ]
  },
  {
   "cell_type": "markdown",
   "metadata": {},
   "source": [
    "### Plot proportions on a bar chart"
   ]
  },
  {
   "cell_type": "code",
   "execution_count": 887,
   "metadata": {},
   "outputs": [],
   "source": [
    "#location of x axis varaiable\n",
    "ind = np.arange(len(no_show_proportions))  # the x locations for the groups\n",
    "width = 0.35       # the width of the bars"
   ]
  },
  {
   "cell_type": "code",
   "execution_count": 888,
   "metadata": {},
   "outputs": [
    {
     "data": {
      "image/png": "[encoded data removed]",
      "text/plain": [
       "<Figure size 432x288 with 1 Axes>"
      ]
     },
     "metadata": {
      "needs_background": "light"
     },
     "output_type": "display_data"
    }
   ],
   "source": [
    "# plot bars \n",
    "no_show_bars = plt.bar(ind,no_show_proportions, width, color='orange', alpha=0.8, label = 'No-show')\n",
    "show_bars = plt.bar(ind + width,show_proportions, width, color='purple', alpha=0.8, label = 'Show')\n",
    "    \n",
    "#labels and title\n",
    "plt.xlabel('Scholarship')\n",
    "plt.ylabel('Proportion')\n",
    "locations = ind + width/2 # xtick locations\n",
    "labels = (['No','Yes']) # xtick labels\n",
    "plt.title(\"Proportion of Patients' show/no-show Status According to Scholarship receival\")\n",
    "plt.xticks(locations,labels)\n",
    "    \n",
    "#legend\n",
    "plt.legend();"
   ]
  },
  {
   "cell_type": "code",
   "execution_count": 889,
   "metadata": {},
   "outputs": [
    {
     "data": {
      "text/plain": [
       "Scholarship\n",
       "0    99665\n",
       "1    10861\n",
       "Name: PatientID, dtype: int64"
      ]
     },
     "execution_count": 889,
     "metadata": {},
     "output_type": "execute_result"
    }
   ],
   "source": [
    "# percentage of patient who got enrolled in scolarship program\n",
    "\n",
    "# get the patient counts grouped by scolarship program\n",
    "\n",
    "patient_count_by_scholarship = df.groupby('Scholarship').count().PatientID\n",
    "patient_count_by_scholarship"
   ]
  },
  {
   "cell_type": "code",
   "execution_count": 890,
   "metadata": {},
   "outputs": [
    {
     "data": {
      "image/png": "[encoded data removed]",
      "text/plain": [
       "<Figure size 432x288 with 1 Axes>"
      ]
     },
     "metadata": {},
     "output_type": "display_data"
    }
   ],
   "source": [
    "# plot pie chart\n",
    "plt.pie(patient_count_by_scholarship,labels=['No','Yes'], colors=['coral','lightblue'],autopct='%.2f')\n",
    "plt.axis('equal')\n",
    "plt.title('Percentage of Patient with Scholarship Receival');"
   ]
  },
  {
   "cell_type": "markdown",
   "metadata": {},
   "source": [
    "### Observations:\n",
    "- Only 10 % patient got scholarship and among them the no-show portion is higher.\n",
    "- On the other hand 90 % are without scholarship program and the show up rate is higher among them.\n",
    "- So scholarship negetively  played a role in showing up."
   ]
  },
  {
   "cell_type": "markdown",
   "metadata": {},
   "source": [
    "### Question 10: Does gender play any role in any of these health condition?\n",
    "It would be interesting to see the pattern of health conditions among female and male patients. Let's dig into that. "
   ]
  },
  {
   "cell_type": "code",
   "execution_count": 891,
   "metadata": {},
   "outputs": [
    {
     "data": {
      "text/plain": [
       "Gender  Diabetes\n",
       "F       0           66233\n",
       "        1            5606\n",
       "M       0           36350\n",
       "        1            2337\n",
       "Name: PatientID, dtype: int64"
      ]
     },
     "execution_count": 891,
     "metadata": {},
     "output_type": "execute_result"
    }
   ],
   "source": [
    "# get gender distribution of diabetic patients\n",
    "diabetes_group_counts = df.groupby(['Gender','Diabetes']).count().PatientID\n",
    "diabetes_group_counts "
   ]
  },
  {
   "cell_type": "code",
   "execution_count": 892,
   "metadata": {},
   "outputs": [
    {
     "data": {
      "text/plain": [
       "Diabetes\n",
       "0    0.921964\n",
       "1    0.078036\n",
       "Name: PatientID, dtype: float64"
      ]
     },
     "execution_count": 892,
     "metadata": {},
     "output_type": "execute_result"
    }
   ],
   "source": [
    "#get proportions by dividing diabetes group counts by total # of female counts\n",
    "dia_female_proportions = diabetes_group_counts['F']/patient_count_by_gender['F']\n",
    "dia_female_proportions"
   ]
  },
  {
   "cell_type": "code",
   "execution_count": 893,
   "metadata": {},
   "outputs": [
    {
     "data": {
      "text/plain": [
       "Diabetes\n",
       "0    0.939592\n",
       "1    0.060408\n",
       "Name: PatientID, dtype: float64"
      ]
     },
     "execution_count": 893,
     "metadata": {},
     "output_type": "execute_result"
    }
   ],
   "source": [
    "#get proportions by dividing diabetes group counts by total # of male counts\n",
    "dia_male_proportions = diabetes_group_counts['M']/patient_count_by_gender['M']\n",
    "dia_male_proportions"
   ]
  },
  {
   "cell_type": "code",
   "execution_count": 894,
   "metadata": {},
   "outputs": [
    {
     "data": {
      "text/plain": [
       "Gender  Hypertension\n",
       "F       0               56500\n",
       "        1               15339\n",
       "M       0               32225\n",
       "        1                6462\n",
       "Name: PatientID, dtype: int64"
      ]
     },
     "execution_count": 894,
     "metadata": {},
     "output_type": "execute_result"
    }
   ],
   "source": [
    "# get gender distribution of hypertensive patients\n",
    "hypertension_group_counts = df.groupby(['Gender','Hypertension']).count().PatientID\n",
    "hypertension_group_counts"
   ]
  },
  {
   "cell_type": "code",
   "execution_count": 895,
   "metadata": {},
   "outputs": [
    {
     "data": {
      "text/plain": [
       "Hypertension\n",
       "0    0.786481\n",
       "1    0.213519\n",
       "Name: PatientID, dtype: float64"
      ]
     },
     "execution_count": 895,
     "metadata": {},
     "output_type": "execute_result"
    }
   ],
   "source": [
    "#get proportions by dividing hypertension group counts by total # of female counts\n",
    "hyp_female_proportions = hypertension_group_counts['F']/patient_count_by_gender['F']\n",
    "hyp_female_proportions"
   ]
  },
  {
   "cell_type": "code",
   "execution_count": 896,
   "metadata": {},
   "outputs": [
    {
     "data": {
      "text/plain": [
       "Hypertension\n",
       "0    0.832967\n",
       "1    0.167033\n",
       "Name: PatientID, dtype: float64"
      ]
     },
     "execution_count": 896,
     "metadata": {},
     "output_type": "execute_result"
    }
   ],
   "source": [
    "#get proportions by dividing hypertension group counts by total # of male counts\n",
    "hyp_male_proportions = hypertension_group_counts['M']/patient_count_by_gender['M']\n",
    "hyp_male_proportions"
   ]
  },
  {
   "cell_type": "code",
   "execution_count": 897,
   "metadata": {},
   "outputs": [
    {
     "data": {
      "text/plain": [
       "Gender  Alcoholism\n",
       "F       0             70616\n",
       "        1              1223\n",
       "M       0             36550\n",
       "        1              2137\n",
       "Name: PatientID, dtype: int64"
      ]
     },
     "execution_count": 897,
     "metadata": {},
     "output_type": "execute_result"
    }
   ],
   "source": [
    "#get gender distribution of alcoholic patients\n",
    "alcoholism_group_counts = df.groupby(['Gender','Alcoholism']).count().PatientID\n",
    "alcoholism_group_counts"
   ]
  },
  {
   "cell_type": "code",
   "execution_count": 898,
   "metadata": {},
   "outputs": [
    {
     "data": {
      "text/plain": [
       "Alcoholism\n",
       "0    0.982976\n",
       "1    0.017024\n",
       "Name: PatientID, dtype: float64"
      ]
     },
     "execution_count": 898,
     "metadata": {},
     "output_type": "execute_result"
    }
   ],
   "source": [
    "#get proportions by dividing alcoholism group counts by total # of female counts\n",
    "alc_female_proportions = alcoholism_group_counts['F']/patient_count_by_gender['F']\n",
    "alc_female_proportions"
   ]
  },
  {
   "cell_type": "code",
   "execution_count": 899,
   "metadata": {},
   "outputs": [
    {
     "data": {
      "text/plain": [
       "Alcoholism\n",
       "0    0.944762\n",
       "1    0.055238\n",
       "Name: PatientID, dtype: float64"
      ]
     },
     "execution_count": 899,
     "metadata": {},
     "output_type": "execute_result"
    }
   ],
   "source": [
    "#get proportions by dividing alcoholism group counts by total # of male counts\n",
    "alc_male_proportions = alcoholism_group_counts['M']/patient_count_by_gender['M']\n",
    "alc_male_proportions"
   ]
  },
  {
   "cell_type": "code",
   "execution_count": 900,
   "metadata": {},
   "outputs": [
    {
     "data": {
      "image/png": "[encoded data removed]",
      "text/plain": [
       "<Figure size 432x288 with 1 Axes>"
      ]
     },
     "metadata": {
      "needs_background": "light"
     },
     "output_type": "display_data"
    }
   ],
   "source": [
    "ind = np.array([1,2,3])\n",
    "width = 0.35\n",
    "plt.bar(ind, [hyp_female_proportions[1], alc_female_proportions[1],dia_female_proportions[1]], width=width, color='brown', label='Female')\n",
    "plt.bar(ind+width, [hyp_male_proportions[1], alc_male_proportions[1],dia_male_proportions[1]], width=width, color= 'lightblue', label='Male')\n",
    "\n",
    "plt.xlabel('Conditions')\n",
    "plt.ylabel('Propotion of Gender with conditions')\n",
    "\n",
    "locations = ind + width / 2\n",
    "plt.xticks(locations, ['Hypertension','Alcoholism','Diabetes'])\n",
    "plt.title('Proportion of Patients based on Gender with Conditions')\n",
    "\n",
    "plt.legend();\n"
   ]
  },
  {
   "cell_type": "markdown",
   "metadata": {},
   "source": [
    "### Observations\n",
    "- The above plot shows that hypertension and diabetes are more common in female patients(21% and 7%) .\n",
    "- Male patients have more alcohol related issue 5% where as only 1.7% female patient falls into alcoholism."
   ]
  },
  {
   "cell_type": "markdown",
   "metadata": {},
   "source": [
    "### Question 11 : Which hospital location gets less 'No-show' response?\n",
    "There are 81 locations in the dataset and it will be effective to find out where the top five and bottom five 'No-show' happened."
   ]
  },
  {
   "cell_type": "code",
   "execution_count": 901,
   "metadata": {},
   "outputs": [
    {
     "data": {
      "text/plain": [
       "No-show  Neighbourhood      \n",
       "No       AEROPORTO                 7\n",
       "         ANDORINHAS             1741\n",
       "         ANTÔNIO HONÓRIO         221\n",
       "         ARIOVALDO FAVALESSA     220\n",
       "         BARRO VERMELHO          332\n",
       "                                ... \n",
       "Yes      SÃO JOSÉ                428\n",
       "         SÃO PEDRO               515\n",
       "         TABUAZEIRO              573\n",
       "         UNIVERSITÁRIO            32\n",
       "         VILA RUBIM              141\n",
       "Name: PatientID, Length: 160, dtype: int64"
      ]
     },
     "execution_count": 901,
     "metadata": {},
     "output_type": "execute_result"
    }
   ],
   "source": [
    "# Group by location\n",
    "location_group = df.groupby(['No-show','Neighbourhood']).count().PatientID\n",
    "location_group"
   ]
  },
  {
   "cell_type": "code",
   "execution_count": 902,
   "metadata": {},
   "outputs": [
    {
     "data": {
      "text/plain": [
       "Neighbourhood\n",
       "AEROPORTO              0.000045\n",
       "ANDORINHAS             0.023343\n",
       "ANTÔNIO HONÓRIO        0.002240\n",
       "ARIOVALDO FAVALESSA    0.002778\n",
       "BARRO VERMELHO         0.004077\n",
       "                         ...   \n",
       "SÃO JOSÉ               0.019176\n",
       "SÃO PEDRO              0.023075\n",
       "TABUAZEIRO             0.025673\n",
       "UNIVERSITÁRIO          0.001434\n",
       "VILA RUBIM             0.006317\n",
       "Name: PatientID, Length: 80, dtype: float64"
      ]
     },
     "execution_count": 902,
     "metadata": {},
     "output_type": "execute_result"
    }
   ],
   "source": [
    "# Scheduled to Show/No-show Ratio\n",
    "no_show_proportions = location_group['Yes']/show_up_totals['Yes']\n",
    "no_show_proportions"
   ]
  },
  {
   "cell_type": "code",
   "execution_count": 903,
   "metadata": {},
   "outputs": [
    {
     "data": {
      "text/plain": [
       "Neighbourhood\n",
       "JARDIM CAMBURI    0.065639\n",
       "MARIA ORTIZ       0.054617\n",
       "ITARARÉ           0.041355\n",
       "RESISTÊNCIA       0.040593\n",
       "CENTRO            0.031498\n",
       "Name: PatientID, dtype: float64"
      ]
     },
     "execution_count": 903,
     "metadata": {},
     "output_type": "execute_result"
    }
   ],
   "source": [
    "high_no_shows = no_show_proportions.sort_values(ascending = False)[:5]\n",
    "high_no_shows"
   ]
  },
  {
   "cell_type": "code",
   "execution_count": 904,
   "metadata": {},
   "outputs": [
    {
     "data": {
      "image/png": "[encoded data removed]",
      "text/plain": [
       "<Figure size 432x288 with 1 Axes>"
      ]
     },
     "metadata": {
      "needs_background": "light"
     },
     "output_type": "display_data"
    }
   ],
   "source": [
    "high_no_shows.plot.bar(x ='Neighbourhood');\n",
    "plt.ylabel('Proportion')\n",
    "plt.title('Top five Neighbourhood according to no-show proportion');"
   ]
  },
  {
   "cell_type": "code",
   "execution_count": 905,
   "metadata": {},
   "outputs": [
    {
     "data": {
      "text/plain": [
       "Neighbourhood\n",
       "AEROPORTO                      0.000045\n",
       "ILHA DO FRADE                  0.000090\n",
       "ILHAS OCEÂNICAS DE TRINDADE    0.000090\n",
       "ILHA DO BOI                    0.000134\n",
       "PONTAL DE CAMBURI              0.000538\n",
       "Name: PatientID, dtype: float64"
      ]
     },
     "execution_count": 905,
     "metadata": {},
     "output_type": "execute_result"
    }
   ],
   "source": [
    "low_no_shows = no_show_proportions.sort_values(ascending = True)[:5]\n",
    "low_no_shows"
   ]
  },
  {
   "cell_type": "code",
   "execution_count": 906,
   "metadata": {},
   "outputs": [
    {
     "data": {
      "image/png": "[encoded data removed]",
      "text/plain": [
       "<Figure size 432x288 with 1 Axes>"
      ]
     },
     "metadata": {
      "needs_background": "light"
     },
     "output_type": "display_data"
    }
   ],
   "source": [
    "low_no_shows.plot.bar(x='Neighbourhood')\n",
    "plt.ylabel('Proportion')\n",
    "plt.title('Bottom five Neighbourhood according to no-show proportion');"
   ]
  },
  {
   "cell_type": "code",
   "execution_count": 907,
   "metadata": {},
   "outputs": [
    {
     "data": {
      "text/plain": [
       "'JARDIM CAMBURI'"
      ]
     },
     "execution_count": 907,
     "metadata": {},
     "output_type": "execute_result"
    }
   ],
   "source": [
    "idx= no_show_proportions.idxmax()\n",
    "idx"
   ]
  },
  {
   "cell_type": "markdown",
   "metadata": {},
   "source": [
    "### Observations\n",
    "- Jardim Camburi is the hospital location where most of the patient did not show up even after making an appoinment compared to total number of appointments made at that location.\n",
    "- Top five No-show places(where patients did not visit on appointment day) are JARDIM CAMBURI,MARIA ORTIZ,ITARARÉ,RESISTÊNCIA and CENTRO\n",
    "- Top five show-up places(where patients did visit on appointment day) are AEROPORTO,ILHA DO FRADE,ILHAS OCEÂNICAS DE TRINDADE,ILHA DO BOI and PONTAL DE CAMBURI."
   ]
  },
  {
   "cell_type": "markdown",
   "metadata": {},
   "source": [
    "### Question 12:How being handicap does impact on not-showing up on appoinement day?\n"
   ]
  },
  {
   "cell_type": "code",
   "execution_count": 908,
   "metadata": {},
   "outputs": [
    {
     "data": {
      "text/plain": [
       "No-show  Handicap\n",
       "No       0           86373\n",
       "         1            1676\n",
       "         2             146\n",
       "         3              10\n",
       "         4               2\n",
       "Yes      0           21912\n",
       "         1             366\n",
       "         2              37\n",
       "         3               3\n",
       "         4               1\n",
       "Name: PatientID, dtype: int64"
      ]
     },
     "execution_count": 908,
     "metadata": {},
     "output_type": "execute_result"
    }
   ],
   "source": [
    "# get distribution of scholarship in no-show up category\n",
    "handicap_group_counts = df.groupby(['No-show','Handicap']).count().PatientID\n",
    "handicap_group_counts "
   ]
  },
  {
   "cell_type": "code",
   "execution_count": 909,
   "metadata": {},
   "outputs": [
    {
     "data": {
      "text/plain": [
       "Handicap\n",
       "0    0.981764\n",
       "1    0.016399\n",
       "2    0.001658\n",
       "3    0.000134\n",
       "4    0.000045\n",
       "Name: PatientID, dtype: float64"
      ]
     },
     "execution_count": 909,
     "metadata": {},
     "output_type": "execute_result"
    }
   ],
   "source": [
    "#get proportions by dividing scholarship group counts by total # of No-show(Yes) status counts\n",
    "no_show_proportions = handicap_group_counts['Yes']/show_up_totals['Yes']\n",
    "no_show_proportions"
   ]
  },
  {
   "cell_type": "code",
   "execution_count": 910,
   "metadata": {},
   "outputs": [
    {
     "data": {
      "text/plain": [
       "Handicap\n",
       "0    0.979208\n",
       "1    0.019001\n",
       "2    0.001655\n",
       "3    0.000113\n",
       "4    0.000023\n",
       "Name: PatientID, dtype: float64"
      ]
     },
     "execution_count": 910,
     "metadata": {},
     "output_type": "execute_result"
    }
   ],
   "source": [
    "#get proportions by dividing scholarship group counts by total # of No-show(No) status counts\n",
    "show_proportions = handicap_group_counts['No']/show_up_totals['No']\n",
    "show_proportions"
   ]
  },
  {
   "cell_type": "code",
   "execution_count": 911,
   "metadata": {},
   "outputs": [],
   "source": [
    "#location of x axis varaiable\n",
    "ind = np.arange(len(no_show_proportions))  # the x locations for the groups\n",
    "width = 0.35       # the width of the bars"
   ]
  },
  {
   "cell_type": "code",
   "execution_count": 912,
   "metadata": {},
   "outputs": [
    {
     "data": {
      "image/png": "[encoded data removed]",
      "text/plain": [
       "<Figure size 432x288 with 1 Axes>"
      ]
     },
     "metadata": {
      "needs_background": "light"
     },
     "output_type": "display_data"
    }
   ],
   "source": [
    "# plot bars \n",
    "no_show_bars = plt.bar(ind,no_show_proportions, width, color='orange', alpha=0.8, label = 'No-show')\n",
    "show_bars = plt.bar(ind + width,show_proportions, width, color='purple', alpha=0.8, label = 'Show')\n",
    "    \n",
    "#labels and title\n",
    "plt.xlabel('Handicap level')\n",
    "plt.ylabel('Proportion')\n",
    "locations = ind + width/2 # xtick locations\n",
    "labels = ([0,1,2,3,4]) # xtick labels\n",
    "plt.title(\"Proportion of Patients' show/no-show Status According to Handicap Level\")\n",
    "plt.xticks(locations,labels)\n",
    "    \n",
    "#legend\n",
    "plt.legend();"
   ]
  },
  {
   "cell_type": "code",
   "execution_count": 913,
   "metadata": {},
   "outputs": [
    {
     "data": {
      "text/plain": [
       "Handicap\n",
       "0    108285\n",
       "1      2042\n",
       "2       183\n",
       "3        13\n",
       "4         3\n",
       "Name: PatientID, dtype: int64"
      ]
     },
     "execution_count": 913,
     "metadata": {},
     "output_type": "execute_result"
    }
   ],
   "source": [
    "# get the patient counts grouped by handicap category\n",
    "patient_count_by_handicap = df.groupby('Handicap').count().PatientID\n",
    "patient_count_by_handicap"
   ]
  },
  {
   "cell_type": "markdown",
   "metadata": {},
   "source": [
    "### Observations\n",
    "- Only 0 and 1 category handicap patients have the lion share on show -no show proportions. From the chart above it is evident that show-no_show have similar portion in both categories. 2,3,4 categories are almost negligible and do not bring any insight. The dataset does not provide any specific information about those category as well. So it is hard to make any clear conclusion."
   ]
  },
  {
   "cell_type": "markdown",
   "metadata": {},
   "source": [
    "## Conclusions\n"
   ]
  },
  {
   "cell_type": "markdown",
   "metadata": {
    "jupyter": {
     "outputs_hidden": true
    }
   },
   "source": [
    "After analyzing 9 variables with regard to No-show response, the following findings are worth to highlight. The findings are tentative and based on what dataset we have.\n",
    "\n",
    "-  Number of patients who did not show up are mostly within first two age groups i.e from age of  0 to 39 .  Patients above age of 40 are more likely to show up at appoinment day.\n",
    "- Number of female patients are higher than male patients. 65% to 35%. No significant difference in proportion is visible between female and male patients who did/did NOT show up. So there is no clear impact of gender in case of not visiting on appointment day even after scheduling for that.\n",
    "- Only 7 % of all patients  have diabetes. Most of the patients who do not have diabetes, have higher record of attending the hospital on thier appointment day. Although the difference is small, but diabetic patient seems less caring in regard to hospital visit.\n",
    "- 80 % of total patient do not have hypertension and they are less likely to show up on appointment day.\n",
    "- Only 3% patients have alcohol addiction problem.Among two groups the ratio of show and no-show trend is similar.\n",
    "- Patients who received a text reminder has less percentage(32%) in total patient count.Patients who did not receive a text reminder showed up more. So, a text reminder did not really impact on their decision of showing up in this case.\n",
    "- Only 10 % patient got enrolled in scholarship and among them the no-show portion is higher.\n",
    "- Only 0 and 1 category handicap patients have the lion share on show -no show proportions.\n",
    "- Hypertension and diabetes are more common in female patients(21% and 7%) .\n",
    "- Male patients have more alcohol related issue 5% where as only 1.7% female patient falls into alcoholism.\n",
    "- Jardim Camburi is the hospital location where most of the patient did not show up even after making an appoinment compared to total number of appointments made at that location.\n",
    "- Top five No-show places(where patients did not visit on appointment day) are JARDIM CAMBURI,MARIA ORTIZ,ITARARÉ,RESISTÊNCIA and CENTRO.\n",
    "- Top five show-up places(where patients did visit on appointment day) are AEROPORTO,ILHA DO FRADE,ILHAS OCEÂNICAS DE TRINDADE,ILHA DO BOI and PONTAL DE CAMBURI.\n"
   ]
  },
  {
   "cell_type": "markdown",
   "metadata": {},
   "source": [
    "## Limitations\n",
    "- Since the data are collected from several neighbourhood, there might be other important factors missing from what we have used here to analyse. This could contribute to misleading or skewed results or deviate us from figuring out real reasons behind patient's particular response on appointment day. \n",
    "- Majority of patients are female and this could drive our analysis toward wrong descriptive statistics. To offset the possible error, I turned the number in proportion. This is also true for other variables those we studied here."
   ]
  },
  {
   "cell_type": "markdown",
   "metadata": {},
   "source": [
    "## Disclaimer\n",
    "The above analysis does not augur to provide any definitive or conclusive inferences in regard to patient's action or response or any reason behind those behavior. This project study remains  within the boundary of descriptive statistics.Any predictive response is not expected through this analysis."
   ]
  },
  {
   "cell_type": "markdown",
   "metadata": {},
   "source": [
    "## References\n",
    "- https://pandas.pydata.org/\n",
    "- https://numpy.org/\n",
    "- https://matplotlib.org\n",
    "-https://classroom.udacity.com/nanodegrees/nd002/parts/6f1ba175-1429-48e9-ab26-44d08ab21e7e/modules/77a69f88-993e-4b5e-8576-a135209e29bf/lessons/31a04b0e-aac8-4099-99cb-6d8b9391ea0b/concepts/b969ed37-3f0f-43ad-8301-3526d19e45fd"
   ]
  },
  {
   "cell_type": "code",
   "execution_count": null,
   "metadata": {},
   "outputs": [],
   "source": []
  }
 ],
 "metadata": {
  "kernelspec": {
   "display_name": "Python 3",
   "language": "python",
   "name": "python3"
  },
  "language_info": {
   "codemirror_mode": {
    "name": "ipython",
    "version": 3
   },
   "file_extension": ".py",
   "mimetype": "text/x-python",
   "name": "python",
   "nbconvert_exporter": "python",
   "pygments_lexer": "ipython3",
   "version": "3.7.5"
  }
 },
 "nbformat": 4,
 "nbformat_minor": 4
}
